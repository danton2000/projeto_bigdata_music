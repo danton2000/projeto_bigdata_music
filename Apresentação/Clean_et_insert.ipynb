{
 "cells": [
  {
   "cell_type": "code",
   "execution_count": 0,
   "metadata": {
    "application/vnd.databricks.v1+cell": {
     "cellMetadata": {},
     "inputWidgets": {},
     "nuid": "49cd3e19-c16e-4b46-b48c-217138c54f66",
     "showTitle": false,
     "tableResultSettingsMap": {},
     "title": ""
    },
    "id": "2c7995a5"
   },
   "outputs": [],
   "source": [
    "!pip install spotipy"
   ]
  },
  {
   "cell_type": "code",
   "execution_count": 0,
   "metadata": {
    "application/vnd.databricks.v1+cell": {
     "cellMetadata": {},
     "inputWidgets": {},
     "nuid": "21361be4-2fd4-49fa-9f12-0910555f02ce",
     "showTitle": false,
     "tableResultSettingsMap": {},
     "title": ""
    },
    "collapsed": true,
    "id": "emPM5Kcr7S2v"
   },
   "outputs": [],
   "source": [
    "import pandas as pd\n",
    "import time\n",
    "from spotipy.oauth2 import SpotifyClientCredentials\n",
    "import spotipy\n",
    "\n",
    "# Credenciais fornecidas\n",
    "client_id = '7e8c73e97d5b44cf9a10e4c1678a90b6'\n",
    "client_secret = 'b1cc3f76eab24971b003d2a4fdec1e00'\n",
    "\n",
    "# Autenticação com o Spotify\n",
    "auth_manager = SpotifyClientCredentials(client_id=client_id, client_secret=client_secret)\n",
    "sp = spotipy.Spotify(auth_manager=auth_manager)\n",
    "\n",
    "# Carregar o CSV\n",
    "df = pd.read_csv('Musicas_com_Album_cleaned.csv')\n",
    "\n",
    "# Função para buscar URL da capa com retry e backoff ajustados\n",
    "def get_album_cover_url(artist, album):\n",
    "    retry_delay = 5  # Tempo de espera inicial aumentado para 5 segundos\n",
    "    max_retries = 10  # Número máximo de tentativas aumentado\n",
    "    max_delay = 60 # Tempo máximo de espera entre as tentativas em segundos\n",
    "\n",
    "    for attempt in range(max_retries):\n",
    "        try:\n",
    "            query = f\"album:{album} artist:{artist}\"\n",
    "            results = sp.search(q=query, type='album', limit=1)\n",
    "            items = results['albums']['items']\n",
    "            if items:\n",
    "                return items[0]['images'][0]['url']  # Imagem de maior resolução\n",
    "            return None # Retorna None se não encontrar resultados\n",
    "        except Exception as e:\n",
    "            print(f\"Erro ao buscar {album} de {artist} (Tentativa {attempt + 1}/{max_retries}): {e}\")\n",
    "            if attempt < max_retries - 1:\n",
    "                # Calcula o próximo tempo de espera, limitando ao max_delay\n",
    "                sleep_time = min(retry_delay * (2 ** attempt), max_delay)\n",
    "                time.sleep(sleep_time)\n",
    "            else:\n",
    "                print(f\"Falha ao buscar {album} de {artist} após {max_retries} tentativas.\")\n",
    "    return None\n",
    "\n",
    "# Processar apenas a primeira linha de dados\n",
    "if not df.empty:\n",
    "    first_row = df.iloc[0]\n",
    "    artist = first_row['Artist']\n",
    "    album = first_row['Album']\n",
    "    print(f\"Processando a primeira linha de dados: {artist} - {album}\")\n",
    "    url = get_album_cover_url(artist, album)\n",
    "    print(f\"URL da capa encontrada: {url}\")\n",
    "else:\n",
    "    print(\"O DataFrame está vazio.\")\n",
    "\n",
    "print(\"Teste concluído.\")"
   ]
  },
  {
   "cell_type": "code",
   "execution_count": 0,
   "metadata": {
    "application/vnd.databricks.v1+cell": {
     "cellMetadata": {},
     "inputWidgets": {},
     "nuid": "33de08f5-c6cd-48b6-bc01-a5942b2f6112",
     "showTitle": false,
     "tableResultSettingsMap": {},
     "title": ""
    },
    "id": "2628b5d2"
   },
   "outputs": [],
   "source": [
    "import requests\n",
    "import pandas as pd\n",
    "import time\n",
    "\n",
    "# Carregar o CSV (mantemos o carregamento do seu arquivo)\n",
    "df = pd.read_csv('Musicas_com_Album_cleaned.csv')\n",
    "\n",
    "# URL base da API da Deezer\n",
    "DEEZER_API_BASE_URL = \"https://api.deezer.com\"\n",
    "\n",
    "# Função para buscar URL da capa pela API da Deezer\n",
    "def get_album_cover_url_deezer(artist, album):\n",
    "    # Endpoint de busca por álbum\n",
    "    search_endpoint = f\"{DEEZER_API_BASE_URL}/search/album\"\n",
    "    params = {\n",
    "        'q': f'artist:\"{artist}\" album:\"{album}\"'\n",
    "    }\n",
    "\n",
    "    try:\n",
    "        response = requests.get(search_endpoint, params=params)\n",
    "        response.raise_for_status()  # Lança exceção para status de erro (4xx ou 5xx)\n",
    "        results = response.json()\n",
    "\n",
    "        if results and results['data']:\n",
    "            # Retorna a URL da capa do primeiro resultado encontrado (imagem extra grande)\n",
    "            return results['data'][0]['cover_xl']\n",
    "        return None # Retorna None se não encontrar resultados\n",
    "\n",
    "    except requests.exceptions.RequestException as e:\n",
    "        print(f\"Erro na requisição para a API da Deezer ao buscar {album} de {artist}: {e}\")\n",
    "        return None\n",
    "    except Exception as e:\n",
    "        print(f\"Ocorreu um erro inesperado ao buscar {album} de {artist}: {e}\")\n",
    "        return None\n",
    "\n",
    "# Aplicar a função em blocos com controle de tempo\n",
    "urls = []\n",
    "chunk_size = 500  # Definir o tamanho do bloco (pode ajustar conforme necessário)\n",
    "# Iterar sobre o DataFrame em blocos\n",
    "for i in range(0, len(df), chunk_size):\n",
    "    chunk = df.iloc[i:i + chunk_size]\n",
    "    print(f\"Processando bloco de linhas {i} a {i + chunk_size - 1}...\")\n",
    "    for index, row in chunk.iterrows():\n",
    "        artist = row['Artist']\n",
    "        album = row['Album']\n",
    "        url = get_album_cover_url_deezer(artist, album)\n",
    "        urls.append(url)\n",
    "        # Pequeno sleep entre requisições dentro do bloco para evitar picos\n",
    "        time.sleep(0.1)\n",
    "    # Tempo de espera maior entre os blocos para respeitar limites da API\n",
    "    time.sleep(5) # Ajuste este tempo se encontrar problemas de limite de taxa\n",
    "\n",
    "# Adicionar as URLs ao DataFrame\n",
    "df['Album_Cover_URL'] = urls\n",
    "\n",
    "# Salvar o DataFrame atualizado em um novo CSV\n",
    "df.to_csv('Musicas_com_Capas_Deezer.csv', index=False)\n",
    "\n",
    "print(\"Busca de capas pela API da Deezer concluída e arquivo salvo como 'Musicas_com_Capas_Deezer.csv'\")"
   ]
  },
  {
   "cell_type": "code",
   "execution_count": 0,
   "metadata": {
    "application/vnd.databricks.v1+cell": {
     "cellMetadata": {},
     "inputWidgets": {},
     "nuid": "40f7f0b2-cd73-4b43-96d8-0061df613492",
     "showTitle": false,
     "tableResultSettingsMap": {},
     "title": ""
    },
    "id": "YXuRZQdDBwjO"
   },
   "outputs": [],
   "source": [
    "import pandas as pd\n",
    "\n",
    "# Carregar o arquivo CSV\n",
    "try:\n",
    "    df_classic = pd.read_csv('ClassicHit.csv')\n",
    "    print(f\"Número original de linhas: {len(df_classic)}\")\n",
    "\n",
    "    # Remover linhas com valores faltantes ou falhos (NaN, None, etc.)\n",
    "    df_classic_cleaned = df_classic.dropna()\n",
    "\n",
    "    print(f\"Número de linhas restantes após a limpeza: {len(df_classic_cleaned)}\")\n",
    "    print(f\"Número de linhas eliminadas: {len(df_classic) - len(df_classic_cleaned)}\")\n",
    "\n",
    "    # Salvar o arquivo limpo em um novo CSV\n",
    "    df_classic_cleaned.to_csv('ClassicHit_Cleaned.csv', index=False)\n",
    "\n",
    "    print(\"Arquivo 'ClassicHit_Cleaned.csv' criado com sucesso.\")\n",
    "\n",
    "except FileNotFoundError:\n",
    "    print(\"Erro: O arquivo 'ClassicHit.csv' não foi encontrado.\")\n",
    "except Exception as e:\n",
    "    print(f\"Ocorreu um erro durante o processamento: {e}\")"
   ]
  },
  {
   "cell_type": "code",
   "execution_count": 0,
   "metadata": {
    "application/vnd.databricks.v1+cell": {
     "cellMetadata": {},
     "inputWidgets": {},
     "nuid": "4c76c6da-b656-49e8-b02a-1e911c876c51",
     "showTitle": false,
     "tableResultSettingsMap": {},
     "title": ""
    },
    "id": "fd843842"
   },
   "outputs": [],
   "source": [
    "import pandas as pd\n",
    "\n",
    "# Carregar os dois arquivos CSV\n",
    "try:\n",
    "    df_classic_cleaned = pd.read_csv('ClassicHit_Cleaned.csv')\n",
    "    df_deezer = pd.read_csv('Musicas_com_Capas_Deezer.csv')\n",
    "\n",
    "    # Verificar as colunas em cada DataFrame\n",
    "    print(\"Colunas em df_classic_cleaned:\", df_classic_cleaned.columns)\n",
    "    print(\"Colunas em df_deezer:\", df_deezer.columns)\n",
    "\n",
    "    # Realizar o merge dos DataFrames usando 'Artist' e 'Track'\n",
    "    # Usaremos um merge left para manter todas as músicas de ClassicHit_Cleaned.csv\n",
    "    merged_df = pd.merge(df_classic_cleaned, df_deezer[['Artist', 'Track', 'Album_Cover_URL']],\n",
    "                         on=['Artist', 'Track'],\n",
    "                         how='left')\n",
    "\n",
    "    # Exibir as primeiras linhas do DataFrame mesclado para verificação\n",
    "    print(\"\\nPrimeiras linhas do DataFrame mesclado:\")\n",
    "    display(merged_df.head())\n",
    "\n",
    "    # Salvar o DataFrame mesclado em um novo arquivo CSV\n",
    "    merged_df.to_csv('ClassicHit_Cleaned_and_Added.csv', index=False)\n",
    "\n",
    "    print(\"\\nArquivo 'ClassicHit_Cleaned_and_Added.csv' criado com sucesso.\")\n",
    "\n",
    "except FileNotFoundError as e:\n",
    "    print(f\"Erro: Um dos arquivos não foi encontrado. {e}\")\n",
    "except KeyError as e:\n",
    "    print(f\"Erro: Coluna não encontrada ao tentar fazer o merge. Verifique se 'Artist', 'Track' e 'Album_Cover_URL' existem nos arquivos. {e}\")\n",
    "except Exception as e:\n",
    "    print(f\"Ocorreu um erro durante o processamento: {e}\")"
   ]
  }
 ],
 "metadata": {
  "application/vnd.databricks.v1+notebook": {
   "computePreferences": null,
   "dashboards": [],
   "environmentMetadata": null,
   "inputWidgetPreferences": null,
   "language": "python",
   "notebookMetadata": {
    "pythonIndentUnit": 4
   },
   "notebookName": "Clean_et_insert",
   "widgets": {}
  },
  "colab": {
   "provenance": []
  },
  "kernelspec": {
   "display_name": "Python 3",
   "name": "python3"
  },
  "language_info": {
   "name": "python"
  }
 },
 "nbformat": 4,
 "nbformat_minor": 0
}
