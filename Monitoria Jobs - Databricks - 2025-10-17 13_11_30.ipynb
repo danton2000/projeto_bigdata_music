{
 "cells": [
  {
   "cell_type": "code",
   "execution_count": 0,
   "metadata": {
    "application/vnd.databricks.v1+cell": {
     "cellMetadata": {
      "byteLimit": 2048000,
      "rowLimit": 10000
     },
     "inputWidgets": {},
     "nuid": "70bff029-b4bb-4f09-9c06-ecb070028dec",
     "showTitle": false,
     "tableResultSettingsMap": {},
     "title": ""
    }
   },
   "outputs": [],
   "source": [
    "pip install databricks-sdk\n"
   ]
  },
  {
   "cell_type": "code",
   "execution_count": 0,
   "metadata": {
    "application/vnd.databricks.v1+cell": {
     "cellMetadata": {
      "byteLimit": 2048000,
      "rowLimit": 10000
     },
     "inputWidgets": {},
     "nuid": "9c5e4c71-c0df-40f6-890c-4334a0988b30",
     "showTitle": false,
     "tableResultSettingsMap": {},
     "title": ""
    }
   },
   "outputs": [],
   "source": [
    "from databricks.sdk import WorkspaceClient"
   ]
  },
  {
   "cell_type": "code",
   "execution_count": 0,
   "metadata": {
    "application/vnd.databricks.v1+cell": {
     "cellMetadata": {
      "byteLimit": 2048000,
      "rowLimit": 10000
     },
     "inputWidgets": {},
     "nuid": "3215df0c-6870-41c7-9627-e9c8b6c7f192",
     "showTitle": false,
     "tableResultSettingsMap": {},
     "title": ""
    }
   },
   "outputs": [],
   "source": [
    "w = WorkspaceClient()\n",
    "\n",
    "for job in w.jobs.list():\n",
    "    print(f\"Job ID: {job.job_id}, Nome: {job.settings.name}\")\n",
    "\n",
    "    runs = w.jobs.list_runs(\n",
    "        job_id=job.job_id,\n",
    "        limit=5\n",
    "    )\n",
    "    for run in runs:\n",
    "        print(run)\n",
    "        exit()\n",
    "        print(\n",
    "            f\"  Run ID: {run.run_id}, Estado: {run.state.life_cycle_state}, Resultado: {run.state.result_state}\"\n",
    "        )\n"
   ]
  }
 ],
 "metadata": {
  "application/vnd.databricks.v1+notebook": {
   "computePreferences": null,
   "dashboards": [],
   "environmentMetadata": {
    "base_environment": "",
    "environment_version": "4"
   },
   "inputWidgetPreferences": null,
   "language": "python",
   "notebookMetadata": {
    "pythonIndentUnit": 4
   },
   "notebookName": "Monitoria Jobs - Databricks - 2025-10-17 13_11_30",
   "widgets": {}
  },
  "language_info": {
   "name": "python"
  }
 },
 "nbformat": 4,
 "nbformat_minor": 0
}
