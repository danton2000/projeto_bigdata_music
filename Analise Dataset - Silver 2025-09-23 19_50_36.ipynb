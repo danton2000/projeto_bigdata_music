{
 "cells": [
  {
   "cell_type": "code",
   "execution_count": 0,
   "metadata": {
    "application/vnd.databricks.v1+cell": {
     "cellMetadata": {
      "byteLimit": 2048000,
      "rowLimit": 10000
     },
     "inputWidgets": {},
     "nuid": "79974620-854d-43d9-a1a4-c26e6f7cf637",
     "showTitle": false,
     "tableResultSettingsMap": {},
     "title": ""
    }
   },
   "outputs": [],
   "source": [
    "from pyspark.sql.functions import col\n",
    "\n",
    "# Entendimento do dataset\n",
    "df = spark.table(\"workspace.bronze.classic_hit\")\n",
    "#display(df)\n",
    "\n",
    "# Remover linhas duplicadas\n",
    "df_clean = df.dropDuplicates()\n",
    "\n",
    "# Exibir o resultado\n",
    "selected_columns = [\n",
    "    \"track\",\n",
    "    \"artist\",\n",
    "    \"year\",\n",
    "    \"Genre\",\n",
    "    \"Duration\",\n",
    "    \"Danceability\",\n",
    "    \"Popularity\",\n",
    "    \"Speechiness\"\n",
    "]\n",
    "\n",
    "df_selected = df_clean.select(selected_columns)\n",
    "\n",
    "df_selected.write.mode(\"overwrite\").saveAsTable(\"workspace.silver.classic_hit\")\n"
   ]
  }
 ],
 "metadata": {
  "application/vnd.databricks.v1+notebook": {
   "computePreferences": null,
   "dashboards": [],
   "environmentMetadata": {
    "base_environment": "",
    "environment_version": "3"
   },
   "inputWidgetPreferences": null,
   "language": "python",
   "notebookMetadata": {
    "pythonIndentUnit": 4
   },
   "notebookName": "Analise Dataset - Silver 2025-09-23 19_50_36",
   "widgets": {}
  },
  "language_info": {
   "name": "python"
  }
 },
 "nbformat": 4,
 "nbformat_minor": 0
}
