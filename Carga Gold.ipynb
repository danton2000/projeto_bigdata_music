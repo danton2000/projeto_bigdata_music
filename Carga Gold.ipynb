{
 "cells": [
  {
   "cell_type": "markdown",
   "metadata": {
    "application/vnd.databricks.v1+cell": {
     "cellMetadata": {
      "byteLimit": 2048000,
      "rowLimit": 10000
     },
     "inputWidgets": {},
     "nuid": "0895bbb6-cc40-41c0-acc3-0541b69c43d1",
     "showTitle": false,
     "tableResultSettingsMap": {},
     "title": ""
    }
   },
   "source": [
    "# Carga na camada Gold das informações:\n",
    "- classic.hit(camada Silver) \n",
    "- search_track_artist(camada Silver)"
   ]
  },
  {
   "cell_type": "markdown",
   "metadata": {
    "application/vnd.databricks.v1+cell": {
     "cellMetadata": {
      "byteLimit": 2048000,
      "rowLimit": 10000
     },
     "inputWidgets": {},
     "nuid": "7abbe0e9-27e4-4b6c-8693-f57b117ec4c0",
     "showTitle": false,
     "tableResultSettingsMap": {},
     "title": ""
    }
   },
   "source": [
    "## importando lib functions para o processamento para a camada GOLD"
   ]
  },
  {
   "cell_type": "code",
   "execution_count": 0,
   "metadata": {
    "application/vnd.databricks.v1+cell": {
     "cellMetadata": {
      "byteLimit": 2048000,
      "rowLimit": 10000
     },
     "inputWidgets": {},
     "nuid": "8ea17e64-5d43-40c0-8a8f-d5b3c4391475",
     "showTitle": false,
     "tableResultSettingsMap": {},
     "title": ""
    }
   },
   "outputs": [],
   "source": [
    "# Importa as funções do PySpark com o apelido \"F\" para facilitar o uso (ex: F.col, F.sum)\n",
    "from pyspark.sql import functions as F"
   ]
  },
  {
   "cell_type": "markdown",
   "metadata": {
    "application/vnd.databricks.v1+cell": {
     "cellMetadata": {
      "byteLimit": 2048000,
      "rowLimit": 10000
     },
     "inputWidgets": {},
     "nuid": "97c3fdcb-6cb9-4e43-93ad-f2a70ef0527b",
     "showTitle": false,
     "tableResultSettingsMap": {},
     "title": ""
    }
   },
   "source": [
    "## Verificando se as delta table existem\n",
    "## Limpando delta table da tracks_analytics e genres_summary da camada Gold"
   ]
  },
  {
   "cell_type": "code",
   "execution_count": 0,
   "metadata": {
    "application/vnd.databricks.v1+cell": {
     "cellMetadata": {
      "byteLimit": 2048000,
      "rowLimit": 10000
     },
     "inputWidgets": {},
     "nuid": "0ddb6a67-dffb-4940-bd73-521ad258d256",
     "showTitle": false,
     "tableResultSettingsMap": {},
     "title": ""
    }
   },
   "outputs": [],
   "source": [
    "if spark.catalog.tableExists(\"workspace.gold.tracks_analytics\"):\n",
    "    spark.sql(\"TRUNCATE TABLE workspace.gold.tracks_analytics\")\n",
    "else:\n",
    "    print(\"Tabela não existe. Nenhuma ação foi tomada.\")\n",
    "\n",
    "if spark.catalog.tableExists(\"workspace.gold.genres_summary\"):\n",
    "    spark.sql(\"TRUNCATE TABLE workspace.gold.genres_summary\")\n",
    "else:\n",
    "    print(\"Tabela não existe. Nenhuma ação foi tomada.\")"
   ]
  },
  {
   "cell_type": "markdown",
   "metadata": {
    "application/vnd.databricks.v1+cell": {
     "cellMetadata": {
      "byteLimit": 2048000,
      "rowLimit": 10000
     },
     "inputWidgets": {},
     "nuid": "3ab3cc30-7b7b-4678-b963-e90ddff34d9d",
     "showTitle": false,
     "tableResultSettingsMap": {},
     "title": ""
    }
   },
   "source": [
    "## Extraindo as informações da camada Silver"
   ]
  },
  {
   "cell_type": "code",
   "execution_count": 0,
   "metadata": {
    "application/vnd.databricks.v1+cell": {
     "cellMetadata": {
      "byteLimit": 2048000,
      "implicitDf": true,
      "rowLimit": 10000
     },
     "inputWidgets": {},
     "nuid": "bdcdbe10-2e4e-4935-b52e-044982046dc8",
     "showTitle": false,
     "tableResultSettingsMap": {},
     "title": ""
    }
   },
   "outputs": [],
   "source": [
    "# Leitura das tabelas Silver\n",
    "df_api = spark.table(\"workspace.silver.search_track_artist\")\n",
    "df_csv = spark.table(\"workspace.silver.classic_hit\")"
   ]
  },
  {
   "cell_type": "markdown",
   "metadata": {
    "application/vnd.databricks.v1+cell": {
     "cellMetadata": {
      "byteLimit": 2048000,
      "rowLimit": 10000
     },
     "inputWidgets": {},
     "nuid": "54308791-3dbd-4adc-9737-b12cfa13d171",
     "showTitle": false,
     "tableResultSettingsMap": {},
     "title": ""
    }
   },
   "source": [
    "## Padronizando as informações extraidas"
   ]
  },
  {
   "cell_type": "code",
   "execution_count": 0,
   "metadata": {
    "application/vnd.databricks.v1+cell": {
     "cellMetadata": {
      "byteLimit": 2048000,
      "rowLimit": 10000
     },
     "inputWidgets": {},
     "nuid": "74725c9f-d58e-4295-923d-0e725b1ad06e",
     "showTitle": false,
     "tableResultSettingsMap": {},
     "title": ""
    }
   },
   "outputs": [],
   "source": [
    "# Padronizar nomes e tipos\n",
    "df_csv = (\n",
    "    df_csv\n",
    "    .withColumnRenamed(\"track\", \"track_name\")\n",
    "    .withColumnRenamed(\"artist\", \"artist_name\")\n",
    "    .withColumnRenamed(\"Duration\", \"duration_ms\")\n",
    "    .withColumnRenamed(\"Popularity\", \"csv_popularity\")\n",
    ")\n",
    "\n",
    "# Padroniza colunas da API\n",
    "df_api = (\n",
    "    df_api\n",
    "    .withColumnRenamed(\"popularity\", \"api_popularity\")\n",
    ")"
   ]
  },
  {
   "cell_type": "markdown",
   "metadata": {
    "application/vnd.databricks.v1+cell": {
     "cellMetadata": {
      "byteLimit": 2048000,
      "rowLimit": 10000
     },
     "inputWidgets": {},
     "nuid": "f72cdbb1-408f-46ed-a1a8-0a4b01ec7928",
     "showTitle": false,
     "tableResultSettingsMap": {},
     "title": ""
    }
   },
   "source": [
    "## Desnormalizando as infomrações"
   ]
  },
  {
   "cell_type": "code",
   "execution_count": 0,
   "metadata": {
    "application/vnd.databricks.v1+cell": {
     "cellMetadata": {
      "byteLimit": 2048000,
      "rowLimit": 10000
     },
     "collapsed": true,
     "inputWidgets": {},
     "nuid": "cdd2187f-3996-4ba3-b17f-b40217dd1025",
     "showTitle": false,
     "tableResultSettingsMap": {},
     "title": ""
    }
   },
   "outputs": [],
   "source": [
    "# Fazer o join (normalizado)\n",
    "df_join = (\n",
    "    df_csv.alias(\"csv\")\n",
    "    .join(\n",
    "        df_api.alias(\"api\"),\n",
    "        (F.lower(F.trim(F.col(\"csv.track_name\"))) == F.lower(F.trim(F.col(\"api.track_name\")))) &\n",
    "        (F.lower(F.trim(F.col(\"csv.artist_name\"))) == F.lower(F.trim(F.col(\"api.artist_name\")))),\n",
    "        \"inner\"\n",
    "    )\n",
    ")"
   ]
  },
  {
   "cell_type": "markdown",
   "metadata": {
    "application/vnd.databricks.v1+cell": {
     "cellMetadata": {
      "byteLimit": 2048000,
      "rowLimit": 10000
     },
     "inputWidgets": {},
     "nuid": "fa9e303b-8de9-4e3e-81a9-343d4808d607",
     "showTitle": false,
     "tableResultSettingsMap": {},
     "title": ""
    }
   },
   "source": [
    "## Criando novas colunas analíticas para a camada Gold"
   ]
  },
  {
   "cell_type": "code",
   "execution_count": 0,
   "metadata": {
    "application/vnd.databricks.v1+cell": {
     "cellMetadata": {
      "byteLimit": 2048000,
      "rowLimit": 10000
     },
     "inputWidgets": {},
     "nuid": "be39dd5c-3a74-4562-ae19-c90df3e17b7f",
     "showTitle": false,
     "tableResultSettingsMap": {},
     "title": ""
    }
   },
   "outputs": [],
   "source": [
    "# Criar colunas analíticas (camada Gold)\n",
    "df_gold = (\n",
    "    df_join\n",
    "    # Cria uma nova coluna convertendo a duração de milissegundos para minutos\n",
    "    .withColumn(\"duration_min\", F.col(\"api.duration_ms\") / 60000)\n",
    "    \n",
    "    # Calcula a diferença de popularidade entre a API e o CSV\n",
    "    .withColumn(\"popularity_diff\", F.col(\"api_popularity\") - F.col(\"csv_popularity\"))\n",
    "    \n",
    "    # Cria uma pontuação combinando \"Danceability\" e \"Speechiness\"\n",
    "    .withColumn(\"dance_score\", F.col(\"Danceability\") * (1 - F.col(\"Speechiness\")))\n",
    "    \n",
    "    # Marca se a música é um \"hit\" (popularidade acima de 70)\n",
    "    .withColumn(\"is_hit\", F.when(F.col(\"api_popularity\") > 70, F.lit(\"Sim\")).otherwise(\"Não\"))\n",
    "    \n",
    "    # Seleciona apenas as colunas finais para a camada Gold\n",
    "    .select(\n",
    "        \"api.track_id\", \"csv.track_name\", \"csv.artist_name\",\n",
    "        \"csv.Genre\", \"csv.year\",\n",
    "        \"api.album_name\", \"api.album_type\", \"api.album_image_url\",\n",
    "        \"csv.Danceability\", \"csv.Speechiness\",\n",
    "        \"csv_popularity\", \"api_popularity\", \"popularity_diff\",\n",
    "        \"duration_min\", \"dance_score\", \"is_hit\"\n",
    "    )\n",
    ")"
   ]
  },
  {
   "cell_type": "markdown",
   "metadata": {
    "application/vnd.databricks.v1+cell": {
     "cellMetadata": {
      "byteLimit": 2048000,
      "rowLimit": 10000
     },
     "inputWidgets": {},
     "nuid": "17548683-96a8-4f3c-8bc1-b54609b5ea53",
     "showTitle": false,
     "tableResultSettingsMap": {},
     "title": ""
    }
   },
   "source": [
    "## Carregando 1º tabela na camada Gold"
   ]
  },
  {
   "cell_type": "code",
   "execution_count": 0,
   "metadata": {
    "application/vnd.databricks.v1+cell": {
     "cellMetadata": {
      "byteLimit": 2048000,
      "rowLimit": 10000
     },
     "inputWidgets": {},
     "nuid": "971e6823-9d04-4def-8be3-b9936ea95ff1",
     "showTitle": false,
     "tableResultSettingsMap": {},
     "title": ""
    }
   },
   "outputs": [],
   "source": [
    "# Crie a tabela final:\n",
    "(\n",
    "    df_gold\n",
    "    .write\n",
    "    .format(\"delta\")\n",
    "    .mode(\"overwrite\")\n",
    "    .saveAsTable(\"workspace.gold.tracks_analytics\")\n",
    ")"
   ]
  },
  {
   "cell_type": "markdown",
   "metadata": {
    "application/vnd.databricks.v1+cell": {
     "cellMetadata": {
      "byteLimit": 2048000,
      "rowLimit": 10000
     },
     "inputWidgets": {},
     "nuid": "c909452f-f095-4a09-b00f-6e2574e85eaa",
     "showTitle": false,
     "tableResultSettingsMap": {},
     "title": ""
    }
   },
   "source": [
    "## Carregando 2º tabela na camada Gold (Visão agregada por Genero)"
   ]
  },
  {
   "cell_type": "code",
   "execution_count": 0,
   "metadata": {
    "application/vnd.databricks.v1+cell": {
     "cellMetadata": {
      "byteLimit": 2048000,
      "rowLimit": 10000
     },
     "inputWidgets": {},
     "nuid": "8d0db2fd-b048-419d-9270-a17d336c4756",
     "showTitle": false,
     "tableResultSettingsMap": {},
     "title": ""
    }
   },
   "outputs": [],
   "source": [
    "# visões agregadas(Genero)\n",
    "\n",
    "# Média por gênero\n",
    "df_genres = (\n",
    "    df_gold.groupBy(\"Genre\")\n",
    "    .agg(\n",
    "        F.avg(\"api_popularity\").alias(\"avg_popularity\"),\n",
    "        F.avg(\"Danceability\").alias(\"avg_danceability\"),\n",
    "        F.count(\"*\").alias(\"num_tracks\")\n",
    "    )\n",
    ")\n",
    "df_genres.write.format(\"delta\").mode(\"overwrite\").saveAsTable(\"workspace.gold.genres_summary\")"
   ]
  }
 ],
 "metadata": {
  "application/vnd.databricks.v1+notebook": {
   "computePreferences": {
    "hardware": {
     "accelerator": null,
     "gpuPoolId": null,
     "memory": null
    }
   },
   "dashboards": [],
   "environmentMetadata": {
    "base_environment": "",
    "environment_version": "3"
   },
   "inputWidgetPreferences": null,
   "language": "python",
   "notebookMetadata": {
    "mostRecentlyExecutedCommandWithImplicitDF": {
     "commandId": 5397354257378142,
     "dataframes": [
      "_sqldf"
     ]
    },
    "pythonIndentUnit": 4
   },
   "notebookName": "Carga Gold",
   "widgets": {}
  },
  "language_info": {
   "name": "python"
  }
 },
 "nbformat": 4,
 "nbformat_minor": 0
}
