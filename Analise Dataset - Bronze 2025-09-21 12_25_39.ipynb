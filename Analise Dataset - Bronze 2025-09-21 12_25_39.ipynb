{
 "cells": [
  {
   "cell_type": "code",
   "execution_count": 0,
   "metadata": {
    "application/vnd.databricks.v1+cell": {
     "cellMetadata": {
      "byteLimit": 2048000,
      "rowLimit": 10000
     },
     "inputWidgets": {},
     "nuid": "80377674-4e49-4bba-bfb6-665f61402bc4",
     "showTitle": false,
     "tableResultSettingsMap": {
      "1": {
       "dataGridStateBlob": "{\"version\":1,\"tableState\":{\"columnPinning\":{\"left\":[\"#row_number#\"],\"right\":[]},\"columnSizing\":{\"#row_number#\":66},\"columnVisibility\":{}},\"settings\":{\"columns\":{}},\"syncTimestamp\":1758468788652}",
       "filterBlob": null,
       "queryPlanFiltersBlob": null,
       "tableResultIndex": 1
      }
     },
     "title": ""
    }
   },
   "outputs": [],
   "source": [
    "# Entendimento do dataset\n",
    "df = spark.table(\"workspace.bronze.classic_hit\")\n",
    "#display(df)\n",
    "\n",
    "# Visualize a sample of the data\n",
    "display(df.limit(10))\n",
    "\n",
    "# Obter estatísticas resumidas para colunas numéricas\n",
    "display(df.describe())\n",
    "\n"
   ]
  }
 ],
 "metadata": {
  "application/vnd.databricks.v1+notebook": {
   "computePreferences": null,
   "dashboards": [],
   "environmentMetadata": {
    "base_environment": "",
    "environment_version": "3"
   },
   "inputWidgetPreferences": null,
   "language": "python",
   "notebookMetadata": {
    "pythonIndentUnit": 4
   },
   "notebookName": "Analise Dataset - Bronze 2025-09-21 12_25_39",
   "widgets": {}
  },
  "language_info": {
   "name": "python"
  }
 },
 "nbformat": 4,
 "nbformat_minor": 0
}
