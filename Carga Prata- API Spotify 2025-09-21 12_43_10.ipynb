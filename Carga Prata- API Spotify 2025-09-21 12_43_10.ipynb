{
 "cells": [
  {
   "cell_type": "code",
   "execution_count": 0,
   "metadata": {
    "application/vnd.databricks.v1+cell": {
     "cellMetadata": {
      "byteLimit": 2048000,
      "implicitDf": true,
      "rowLimit": 10000
     },
     "inputWidgets": {},
     "nuid": "bdcdbe10-2e4e-4935-b52e-044982046dc8",
     "showTitle": false,
     "tableResultSettingsMap": {},
     "title": ""
    }
   },
   "outputs": [],
   "source": [
    "%sql\n",
    "DROP TABLE workspace.silver.search_track_artist"
   ]
  },
  {
   "cell_type": "code",
   "execution_count": 0,
   "metadata": {
    "application/vnd.databricks.v1+cell": {
     "cellMetadata": {
      "byteLimit": 2048000,
      "rowLimit": 10000
     },
     "inputWidgets": {},
     "nuid": "74725c9f-d58e-4295-923d-0e725b1ad06e",
     "showTitle": false,
     "tableResultSettingsMap": {},
     "title": ""
    }
   },
   "outputs": [],
   "source": [
    "import pandas as pd\n",
    "from pyspark.sql.functions import from_json, col, explode, expr\n",
    "from pyspark.sql.types import StructType, StructField, StringType, IntegerType, ArrayType\n",
    "\n",
    "# Schema para artistas\n",
    "artist_schema = ArrayType(\n",
    "    StructType([\n",
    "        StructField(\"id\", StringType(), True),\n",
    "        StructField(\"name\", StringType(), True)\n",
    "    ])\n",
    ")\n",
    "\n",
    "# Schema para imagens do álbum\n",
    "image_schema = ArrayType(\n",
    "    StructType([\n",
    "        StructField(\"height\", IntegerType(), True),\n",
    "        StructField(\"width\", IntegerType(), True),\n",
    "        StructField(\"url\", StringType(), True)\n",
    "    ])\n",
    ")\n",
    "\n",
    "# Schema para álbum\n",
    "album_schema = StructType([\n",
    "    StructField(\"album_type\", StringType(), True),\n",
    "    StructField(\"total_tracks\", StringType(), True),\n",
    "    StructField(\"id\", StringType(), True),\n",
    "    StructField(\"name\", StringType(), True),\n",
    "    StructField(\"images\", image_schema, True)\n",
    "])\n",
    "\n",
    "# Schema para track\n",
    "track_schema = StructType([\n",
    "    StructField(\"id\", StringType(), True),\n",
    "    StructField(\"name\", StringType(), True),\n",
    "    StructField(\"popularity\", IntegerType(), True),\n",
    "    StructField(\"duration_ms\", IntegerType(), True),\n",
    "    StructField(\"album\", album_schema, True),\n",
    "    StructField(\"artists\", artist_schema, True)\n",
    "])\n",
    "\n",
    "# Lê a tabela bronze (json cru)\n",
    "df = spark.table(\"workspace.bronze.search_track_artist\")\n",
    "\n",
    "# Faz o parse do JSON\n",
    "df_parsed = df.withColumn(\"parsed\", from_json(col(\"json\"), track_schema))\n",
    "\n",
    "# Seleciona colunas principais + pega a primeira imagem do álbum\n",
    "df_selected = df_parsed.select(\n",
    "    col(\"parsed.id\").alias(\"track_id\"),\n",
    "    col(\"parsed.name\").alias(\"track_name\"),\n",
    "    col(\"parsed.popularity\"),\n",
    "    col(\"parsed.duration_ms\"),\n",
    "    col(\"parsed.album.album_type\").alias(\"album_type\"),\n",
    "    col(\"parsed.album.total_tracks\").alias(\"total_tracks\"),\n",
    "    col(\"parsed.album.id\").alias(\"album_id\"),\n",
    "    col(\"parsed.album.name\").alias(\"album_name\"),\n",
    "    expr(\"parsed.album.images[0].url\").alias(\"album_image_url\"),  # pega a 1ª imagem\n",
    "    col(\"parsed.artists\").alias(\"artists\")  # array ainda\n",
    ")\n",
    "\n",
    "# Explodindo os artistas\n",
    "df_exploded = df_selected.withColumn(\"artist\", explode(\"artists\")) \\\n",
    "    .select(\n",
    "        \"track_id\",\n",
    "        \"track_name\",\n",
    "        \"popularity\",\n",
    "        \"duration_ms\",\n",
    "        \"album_type\",\n",
    "        \"total_tracks\",\n",
    "        \"album_id\",\n",
    "        \"album_name\",\n",
    "        \"album_image_url\",\n",
    "        col(\"artist.id\").alias(\"artist_id\"),\n",
    "        col(\"artist.name\").alias(\"artist_name\")\n",
    "    )\n",
    "\n",
    "# Salva como Delta Table silver\n",
    "df_exploded.write.format(\"delta\") \\\n",
    "    .mode(\"overwrite\") \\\n",
    "    .saveAsTable(\"workspace.silver.search_track_artist\")"
   ]
  },
  {
   "cell_type": "code",
   "execution_count": 0,
   "metadata": {
    "application/vnd.databricks.v1+cell": {
     "cellMetadata": {
      "byteLimit": 2048000,
      "implicitDf": true,
      "rowLimit": 10000
     },
     "inputWidgets": {},
     "nuid": "3c6f5247-51ca-4461-8b99-19a531c495da",
     "showTitle": false,
     "tableResultSettingsMap": {
      "0": {
       "dataGridStateBlob": "{\"version\":1,\"tableState\":{\"columnPinning\":{\"left\":[\"#row_number#\"],\"right\":[]},\"columnSizing\":{\"album_name\":321},\"columnVisibility\":{}},\"settings\":{\"columns\":{\"album_image_url\":{\"format\":{\"preset\":\"string-preset-url\"}}}},\"syncTimestamp\":1759349160780}",
       "filterBlob": null,
       "queryPlanFiltersBlob": null,
       "tableResultIndex": 0
      }
     },
     "title": ""
    }
   },
   "outputs": [],
   "source": [
    "%sql\n",
    "SELECT * FROM workspace.silver.search_track_artist\n",
    "where artist_name like 'The Rascals'"
   ]
  }
 ],
 "metadata": {
  "application/vnd.databricks.v1+notebook": {
   "computePreferences": null,
   "dashboards": [],
   "environmentMetadata": {
    "base_environment": "",
    "environment_version": "3"
   },
   "inputWidgetPreferences": null,
   "language": "python",
   "notebookMetadata": {
    "mostRecentlyExecutedCommandWithImplicitDF": {
     "commandId": 6850476150513180,
     "dataframes": [
      "_sqldf"
     ]
    },
    "pythonIndentUnit": 4
   },
   "notebookName": "Carga Prata- API Spotify 2025-09-21 12_43_10",
   "widgets": {}
  },
  "language_info": {
   "name": "python"
  }
 },
 "nbformat": 4,
 "nbformat_minor": 0
}
