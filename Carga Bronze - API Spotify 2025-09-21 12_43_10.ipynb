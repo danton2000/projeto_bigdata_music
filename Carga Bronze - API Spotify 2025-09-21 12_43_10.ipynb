{
 "cells": [
  {
   "cell_type": "code",
   "execution_count": 0,
   "metadata": {
    "application/vnd.databricks.v1+cell": {
     "cellMetadata": {},
     "inputWidgets": {},
     "nuid": "5c2acd98-4e54-4caa-854a-74777ff67ef9",
     "showTitle": false,
     "tableResultSettingsMap": {},
     "title": ""
    }
   },
   "outputs": [],
   "source": [
    "# ==============================\n",
    "# Importacao de LIBs\n",
    "# ==============================\n",
    "\n",
    "import requests\n",
    "import base64\n",
    "from concurrent.futures import ThreadPoolExecutor, as_completed\n",
    "import json\n",
    "import pandas as pd\n",
    "import time"
   ]
  },
  {
   "cell_type": "code",
   "execution_count": 0,
   "metadata": {
    "application/vnd.databricks.v1+cell": {
     "cellMetadata": {},
     "inputWidgets": {},
     "nuid": "feeba3ab-6662-4074-b617-236c320813a2",
     "showTitle": false,
     "tableResultSettingsMap": {},
     "title": ""
    }
   },
   "outputs": [],
   "source": [
    "# Limpando base da camada Bronze\n",
    "spark.sql(\n",
    "    \"TRUNCATE TABLE workspace.bronze.search_track_artist\"\n",
    ")"
   ]
  },
  {
   "cell_type": "code",
   "execution_count": 0,
   "metadata": {
    "application/vnd.databricks.v1+cell": {
     "cellMetadata": {
      "byteLimit": 2048000,
      "rowLimit": 10000
     },
     "inputWidgets": {},
     "nuid": "74725c9f-d58e-4295-923d-0e725b1ad06e",
     "showTitle": false,
     "tableResultSettingsMap": {},
     "title": ""
    }
   },
   "outputs": [],
   "source": [
    "# ==============================\n",
    "# Autenticação\n",
    "# ==============================\n",
    "# Função para pegar token\n",
    "def get_spotify_access_token(client_id, client_secret):\n",
    "    url = \"https://accounts.spotify.com/api/token\"\n",
    "    headers = {\n",
    "        \"Authorization\": \"Basic \" + base64.b64encode(\n",
    "            f\"{client_id}:{client_secret}\".encode()\n",
    "        ).decode()\n",
    "    }\n",
    "    data = {\"grant_type\": \"client_credentials\"}\n",
    "    response = requests.post(url, headers=headers, data=data)\n",
    "    response.raise_for_status()\n",
    "    token_info = response.json()\n",
    "    return token_info[\"access_token\"], time.time() + token_info[\"expires_in\"] - 60  # expira em timestamp\n"
   ]
  },
  {
   "cell_type": "code",
   "execution_count": 0,
   "metadata": {
    "application/vnd.databricks.v1+cell": {
     "cellMetadata": {
      "byteLimit": 2048000,
      "rowLimit": 10000
     },
     "inputWidgets": {},
     "nuid": "730859b2-b9f6-4eda-9c37-fd0e310b4c81",
     "showTitle": false,
     "tableResultSettingsMap": {},
     "title": ""
    }
   },
   "outputs": [],
   "source": [
    "# Função para renovar token se necessário\n",
    "def get_valid_token(client_id, client_secret, token, token_expiry):\n",
    "    \"\"\"\n",
    "    Garante que sempre exista um token válido do Spotify API.\n",
    "\n",
    "    Args:\n",
    "        client_id (str): Client ID da aplicação registrada no Spotify.\n",
    "        client_secret (str): Client Secret da aplicação registrada no Spotify.\n",
    "        token (str): Token de acesso atual (pode estar expirado).\n",
    "        token_expiry (float): Timestamp (em segundos desde epoch) indicando quando o token expira.\n",
    "\n",
    "    Returns:\n",
    "        tuple:\n",
    "            - token (str): Token válido (renovado se necessário).\n",
    "            - token_expiry (float): Novo timestamp de expiração do token.\n",
    "    \n",
    "    Funcionamento:\n",
    "        - Verifica se o horário atual (`time.time()`) já passou do `token_expiry`.\n",
    "        - Se o token já expirou:\n",
    "            → Imprime uma mensagem de log (\"Token expirou. Renovando...\").\n",
    "            → Chama a função `get_spotify_access_token()` para obter um novo token e atualizar o `token_expiry`.\n",
    "        - Se o token ainda for válido:\n",
    "            → Apenas retorna o token atual e seu tempo de expiração.\n",
    "    \"\"\"\n",
    "    if time.time() >= token_expiry:\n",
    "        print(\"Token expirou. Renovando...\")\n",
    "        token, token_expiry = get_spotify_access_token(client_id, client_secret)\n",
    "    return token, token_expiry\n"
   ]
  },
  {
   "cell_type": "code",
   "execution_count": 0,
   "metadata": {
    "application/vnd.databricks.v1+cell": {
     "cellMetadata": {
      "byteLimit": 2048000,
      "rowLimit": 10000
     },
     "inputWidgets": {},
     "nuid": "e1d44a58-3b4f-4fe4-b928-34970a42b080",
     "showTitle": false,
     "tableResultSettingsMap": {},
     "title": ""
    }
   },
   "outputs": [],
   "source": [
    "# ==============================\n",
    "# Função para buscar track + artista\n",
    "# ==============================\n",
    "# Função para buscar música (tratando rate limit e token expirado)\n",
    "def get_spotify_track_info(track_name, client_id, client_secret, token, token_expiry):\n",
    "    \"\"\"\n",
    "    Busca informações de uma música específica na API do Spotify,\n",
    "    garantindo o uso de um token válido e tratando limites de taxa (rate limit).\n",
    "\n",
    "    Args:\n",
    "        track_name (str): Nome da música a ser pesquisada.\n",
    "        client_id (str): Client ID da aplicação Spotify.\n",
    "        client_secret (str): Client Secret da aplicação Spotify.\n",
    "        token (str): Token de acesso atual (pode estar expirado ou inválido).\n",
    "        token_expiry (float): Timestamp indicando quando o token expira.\n",
    "\n",
    "    Returns:\n",
    "        tuple:\n",
    "            - list: Lista de resultados (máximo 1 item) retornada pela API do Spotify.\n",
    "            - str: Token de acesso válido (renovado se necessário).\n",
    "            - float: Novo timestamp de expiração do token.\n",
    "\n",
    "    Funcionamento:\n",
    "        1. Garante que o token está válido chamando `get_valid_token()`.\n",
    "        2. Faz a chamada para o endpoint `/v1/search` do Spotify:\n",
    "            - Query: `track:{track_name}`\n",
    "            - Tipo: `track`\n",
    "            - Limit: 1 (apenas o resultado mais relevante).\n",
    "        3. Analisa a resposta:\n",
    "            - **200 (OK):** Retorna a lista de tracks (máximo 1).\n",
    "            - **429 (Rate Limit):**\n",
    "                → API limitou requisições.  \n",
    "                → Lê o header `Retry-After` para saber quantos segundos esperar.  \n",
    "                → Faz `time.sleep()` e tenta de novo.\n",
    "            - **401 (Unauthorized):**\n",
    "                → Token inválido ou expirado.  \n",
    "                → Pede um novo token com `get_spotify_access_token()` e repete a busca.\n",
    "            - **Outros códigos de erro:**\n",
    "                → Imprime mensagem de erro (`Erro {status_code}`) e retorna lista vazia.\n",
    "    \"\"\"\n",
    "    while True:\n",
    "        token, token_expiry = get_valid_token(client_id, client_secret, token, token_expiry)\n",
    "        url = \"https://api.spotify.com/v1/search\"\n",
    "        headers = {\"Authorization\": f\"Bearer {token}\"}\n",
    "        params = {\"q\": f\"track:{track_name}\", \"type\": \"track\", \"limit\": 1}\n",
    "\n",
    "        response = requests.get(url, headers=headers, params=params)\n",
    "\n",
    "        if response.status_code == 200:\n",
    "            return response.json().get(\"tracks\", {}).get(\"items\", []), token, token_expiry\n",
    "\n",
    "        elif response.status_code == 429:  # Rate limited\n",
    "            retry_after = int(response.headers.get(\"Retry-After\", \"5\"))\n",
    "            print(f\"Rate limited. Aguardando {retry_after} segundos...\")\n",
    "            time.sleep(retry_after)\n",
    "\n",
    "        elif response.status_code == 401:  # Token inválido ou expirado\n",
    "            print(\"Token inválido/expirado. Renovando...\")\n",
    "            token, token_expiry = get_spotify_access_token(client_id, client_secret)\n",
    "\n",
    "        else:\n",
    "            print(f\"Erro {response.status_code} para '{track_name}'\")\n",
    "            return [], token, token_expiry"
   ]
  },
  {
   "cell_type": "code",
   "execution_count": 0,
   "metadata": {
    "application/vnd.databricks.v1+cell": {
     "cellMetadata": {
      "byteLimit": 2048000,
      "rowLimit": 10000
     },
     "inputWidgets": {},
     "nuid": "8ddb565f-5b22-4a92-83a8-334047773aa7",
     "showTitle": false,
     "tableResultSettingsMap": {},
     "title": ""
    }
   },
   "outputs": [],
   "source": [
    "# Autenticação inicial\n",
    "client_id = \"7c4843d7e1a240b49affd223715ebb36\"\n",
    "client_secret = \"43a2691586354d8c856e1b22dca9b766\"\n",
    "token, token_expiry = get_spotify_access_token(client_id, client_secret)\n",
    "\"\"\"\n",
    "Explicação:\n",
    "    - `client_id` e `client_secret`:\n",
    "        → São as credenciais únicas da aplicação no Spotify for Developers.\n",
    "        → Usadas para autenticação no fluxo Client Credentials.\n",
    "\n",
    "    - `get_spotify_access_token(client_id, client_secret)`:\n",
    "        → Faz uma chamada POST para o endpoint de autenticação do Spotify.\n",
    "        → Retorna:\n",
    "            1. `token` (str): O token de acesso (Bearer Token) necessário \n",
    "               para autenticar todas as chamadas à API.\n",
    "            2. `token_expiry` (float): Um timestamp indicando quando esse token expira.\n",
    "\n",
    "    - Esse passo inicial garante que já temos um token válido antes de\n",
    "      começar a fazer buscas de músicas (via `get_spotify_track_info`).\n",
    "\"\"\""
   ]
  },
  {
   "cell_type": "code",
   "execution_count": 0,
   "metadata": {
    "application/vnd.databricks.v1+cell": {
     "cellMetadata": {
      "byteLimit": 2048000,
      "rowLimit": 10000
     },
     "inputWidgets": {},
     "nuid": "f81b527d-eb0a-4876-8dfa-a41213e4b2ad",
     "showTitle": false,
     "tableResultSettingsMap": {},
     "title": ""
    }
   },
   "outputs": [],
   "source": [
    "# ==============================\n",
    "# Carregar dados do Spark\n",
    "# ==============================\n",
    "\n",
    "# Carrega lista do Spark (Silver)\n",
    "# Consulta SQL no Spark para buscar músicas distintas\n",
    "rows = spark.sql(\"SELECT DISTINCT Track, Artist FROM workspace.silver.classic_hit\").collect()\n",
    "\n",
    "# Cria uma lista apenas com os nomes das faixas (coluna 'Track')\n",
    "tracks_list = [row[\"Track\"] for row in rows]\n",
    "\n",
    "# Exibe a quantidade total de músicas coletadas\n",
    "print(f\"Total de músicas: {len(tracks_list)}\")\n",
    "\n",
    "\"\"\"\n",
    "Explicação:\n",
    "    - `spark.sql(\"SELECT DISTINCT Track, Artist FROM workspace.silver.classic_hit\")`:\n",
    "        → Executa uma consulta no Spark SQL.\n",
    "        → Busca todas as combinações únicas de `Track` e `Artist` na tabela\n",
    "          `workspace.silver.classic_hit` (camada Silver).\n",
    "        → O `DISTINCT` garante que não haja duplicados.\n",
    "\n",
    "    - `.collect()`:\n",
    "        → Retorna os resultados da consulta como uma lista de objetos Row do Spark.\n",
    "        → Cada `Row` funciona como um dicionário, onde `row[\"Track\"]` acessa a coluna.\n",
    "\n",
    "    - `tracks_list = [row[\"Track\"] for row in rows]`:\n",
    "        → Cria uma lista somente com os títulos das músicas (sem os artistas).\n",
    "        → Essa lista é usada depois para buscar informações no Spotify.\n",
    "\n",
    "    - `print(f\"Total de músicas: {len(tracks_list)}\")`:\n",
    "        → Exibe no console quantas músicas distintas foram carregadas do dataset.\n",
    "\"\"\"\n"
   ]
  },
  {
   "cell_type": "code",
   "execution_count": 0,
   "metadata": {
    "application/vnd.databricks.v1+cell": {
     "cellMetadata": {
      "byteLimit": 2048000,
      "rowLimit": 10000
     },
     "inputWidgets": {},
     "nuid": "c6bafe00-6b45-4ea7-8cfc-5b1f79c1651d",
     "showTitle": false,
     "tableResultSettingsMap": {},
     "title": ""
    }
   },
   "outputs": [],
   "source": [
    "# ==============================\n",
    "# Buscar no Spotify em paralelo - 8 horas de execução\n",
    "# ==============================\n",
    "# Processa em batches menores\n",
    "batch_size = 500\n",
    "all_results = []\n",
    "\n",
    "# Processa a lista de músicas em lotes (batches)\n",
    "for i in range(0, len(tracks_list), batch_size):\n",
    "    batch = tracks_list[i:i + batch_size]\n",
    "    print(f\"Processando batch {i // batch_size + 1} ({len(batch)} músicas)...\")\n",
    "\n",
    "    batch_results = []\n",
    "    for track in batch:\n",
    "\n",
    "        # Consulta informações da track na API do Spotify\n",
    "        results, token, token_expiry = get_spotify_track_info(track, client_id, client_secret, token, token_expiry)\n",
    "        batch_results.extend(results)\n",
    "\n",
    "    # Se houve resultados, salva incrementalmente no Delta Table\n",
    "    # Converte para Spark DataFrame e salva incrementalmente\n",
    "    if batch_results:\n",
    "        df = pd.DataFrame([{\"json\": json.dumps(item)} for item in batch_results])\n",
    "        spark_df = spark.createDataFrame(df)\n",
    "\n",
    "        # Persistindo no Delta Lake (camada Bronze)\n",
    "        spark_df.write.format(\"delta\") \\\n",
    "            .mode(\"append\") \\\n",
    "            .saveAsTable(\"workspace.bronze.search_track_artist\")\n",
    "\n",
    "    # Armazena todos os resultados também em memória\n",
    "    all_results.extend(batch_results)\n",
    "\n",
    "print(\"Finalizado. Total salvo:\", len(all_results))\n",
    "\"\"\"\n",
    "Explicação:\n",
    "    - `batch_size = 500`:\n",
    "        → Define o número de músicas a serem processadas por lote.\n",
    "        → Ajuda a evitar estouro de memória e problemas com rate limit da API.\n",
    "\n",
    "    - Loop `for i in range(0, len(tracks_list), batch_size)`:\n",
    "        → Percorre toda a lista de músicas (`tracks_list`) em blocos de 500 elementos.\n",
    "        → `batch` contém apenas um pedaço da lista por vez.\n",
    "\n",
    "    - `get_spotify_track_info(...)`:\n",
    "        → Faz a chamada à API do Spotify para cada música no lote.\n",
    "        → Retorna os metadados da faixa (JSON), além do `token` atualizado.\n",
    "\n",
    "    - `batch_results.extend(results)`:\n",
    "        → Junta todos os resultados do lote em uma lista temporária.\n",
    "\n",
    "    - Criação do DataFrame:\n",
    "        → `pd.DataFrame(...)` transforma a lista de JSONs em um DataFrame do Pandas.\n",
    "        → `spark.createDataFrame(df)` converte para DataFrame do Spark.\n",
    "\n",
    "    - Escrita no Delta Lake:\n",
    "        → `.mode(\"append\")`: adiciona os dados sem sobrescrever os anteriores.\n",
    "        → Armazena os dados brutos (JSONs) na **camada Bronze** da arquitetura de dados.\n",
    "\n",
    "    - `all_results.extend(batch_results)`:\n",
    "        → Também guarda em memória todos os resultados acumulados, \n",
    "          caso seja necessário processar ou auditar depois.\n",
    "\n",
    "    - `print(\"Finalizado. Total salvo:\", len(all_results))`:\n",
    "        → Exibe no console a quantidade final de músicas realmente gravadas no Delta.\n",
    "\"\"\""
   ]
  }
 ],
 "metadata": {
  "application/vnd.databricks.v1+notebook": {
   "computePreferences": {
    "hardware": {
     "accelerator": null,
     "gpuPoolId": null,
     "memory": null
    }
   },
   "dashboards": [],
   "environmentMetadata": {
    "base_environment": "",
    "environment_version": "3"
   },
   "inputWidgetPreferences": null,
   "language": "python",
   "notebookMetadata": {
    "mostRecentlyExecutedCommandWithImplicitDF": {
     "commandId": 6850476150513187,
     "dataframes": [
      "_sqldf"
     ]
    },
    "pythonIndentUnit": 4
   },
   "notebookName": "Carga Bronze - API Spotify 2025-09-21 12_43_10",
   "widgets": {}
  },
  "language_info": {
   "name": "python"
  }
 },
 "nbformat": 4,
 "nbformat_minor": 0
}
