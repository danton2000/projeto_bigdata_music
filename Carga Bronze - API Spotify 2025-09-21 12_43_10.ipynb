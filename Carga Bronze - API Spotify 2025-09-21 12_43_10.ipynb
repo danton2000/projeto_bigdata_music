{
 "cells": [
  {
   "cell_type": "code",
   "execution_count": 0,
   "metadata": {
    "application/vnd.databricks.v1+cell": {
     "cellMetadata": {
      "byteLimit": 2048000,
      "rowLimit": 10000
     },
     "inputWidgets": {},
     "nuid": "74725c9f-d58e-4295-923d-0e725b1ad06e",
     "showTitle": false,
     "tableResultSettingsMap": {},
     "title": ""
    }
   },
   "outputs": [],
   "source": [
    "import requests\n",
    "import base64\n",
    "from concurrent.futures import ThreadPoolExecutor, as_completed\n",
    "import json\n",
    "import pandas as pd\n",
    "import time\n",
    "\n",
    "# ==============================\n",
    "# Autenticação\n",
    "# ==============================\n",
    "# Função para pegar token\n",
    "def get_spotify_access_token(client_id, client_secret):\n",
    "    url = \"https://accounts.spotify.com/api/token\"\n",
    "    headers = {\n",
    "        \"Authorization\": \"Basic \" + base64.b64encode(\n",
    "            f\"{client_id}:{client_secret}\".encode()\n",
    "        ).decode()\n",
    "    }\n",
    "    data = {\"grant_type\": \"client_credentials\"}\n",
    "    response = requests.post(url, headers=headers, data=data)\n",
    "    response.raise_for_status()\n",
    "    token_info = response.json()\n",
    "    return token_info[\"access_token\"], time.time() + token_info[\"expires_in\"] - 60  # expira em timestamp\n"
   ]
  },
  {
   "cell_type": "code",
   "execution_count": 0,
   "metadata": {
    "application/vnd.databricks.v1+cell": {
     "cellMetadata": {
      "byteLimit": 2048000,
      "rowLimit": 10000
     },
     "inputWidgets": {},
     "nuid": "730859b2-b9f6-4eda-9c37-fd0e310b4c81",
     "showTitle": false,
     "tableResultSettingsMap": {},
     "title": ""
    }
   },
   "outputs": [],
   "source": [
    "# Função para renovar token se necessário\n",
    "def get_valid_token(client_id, client_secret, token, token_expiry):\n",
    "    if time.time() >= token_expiry:\n",
    "        print(\"Token expirou. Renovando...\")\n",
    "        token, token_expiry = get_spotify_access_token(client_id, client_secret)\n",
    "    return token, token_expiry\n"
   ]
  },
  {
   "cell_type": "code",
   "execution_count": 0,
   "metadata": {
    "application/vnd.databricks.v1+cell": {
     "cellMetadata": {
      "byteLimit": 2048000,
      "rowLimit": 10000
     },
     "inputWidgets": {},
     "nuid": "e1d44a58-3b4f-4fe4-b928-34970a42b080",
     "showTitle": false,
     "tableResultSettingsMap": {},
     "title": ""
    }
   },
   "outputs": [],
   "source": [
    "# ==============================\n",
    "# Função para buscar track + artista\n",
    "# ==============================\n",
    "# Função para buscar música (tratando rate limit e token expirado)\n",
    "def get_spotify_track_info(track_name, client_id, client_secret, token, token_expiry):\n",
    "    while True:\n",
    "        token, token_expiry = get_valid_token(client_id, client_secret, token, token_expiry)\n",
    "        url = \"https://api.spotify.com/v1/search\"\n",
    "        headers = {\"Authorization\": f\"Bearer {token}\"}\n",
    "        params = {\"q\": f\"track:{track_name}\", \"type\": \"track\", \"limit\": 1}\n",
    "\n",
    "        response = requests.get(url, headers=headers, params=params)\n",
    "\n",
    "        if response.status_code == 200:\n",
    "            return response.json().get(\"tracks\", {}).get(\"items\", []), token, token_expiry\n",
    "\n",
    "        elif response.status_code == 429:  # Rate limited\n",
    "            retry_after = int(response.headers.get(\"Retry-After\", \"5\"))\n",
    "            print(f\"Rate limited. Aguardando {retry_after} segundos...\")\n",
    "            time.sleep(retry_after)\n",
    "\n",
    "        elif response.status_code == 401:  # Token inválido ou expirado\n",
    "            print(\"Token inválido/expirado. Renovando...\")\n",
    "            token, token_expiry = get_spotify_access_token(client_id, client_secret)\n",
    "\n",
    "        else:\n",
    "            print(f\"Erro {response.status_code} para '{track_name}'\")\n",
    "            return [], token, token_expiry"
   ]
  },
  {
   "cell_type": "code",
   "execution_count": 0,
   "metadata": {
    "application/vnd.databricks.v1+cell": {
     "cellMetadata": {
      "byteLimit": 2048000,
      "rowLimit": 10000
     },
     "inputWidgets": {},
     "nuid": "8ddb565f-5b22-4a92-83a8-334047773aa7",
     "showTitle": false,
     "tableResultSettingsMap": {},
     "title": ""
    }
   },
   "outputs": [],
   "source": [
    "# Autenticação inicial\n",
    "client_id = \"7c4843d7e1a240b49affd223715ebb36\"\n",
    "client_secret = \"43a2691586354d8c856e1b22dca9b766\"\n",
    "token, token_expiry = get_spotify_access_token(client_id, client_secret)"
   ]
  },
  {
   "cell_type": "code",
   "execution_count": 0,
   "metadata": {
    "application/vnd.databricks.v1+cell": {
     "cellMetadata": {
      "byteLimit": 2048000,
      "rowLimit": 10000
     },
     "inputWidgets": {},
     "nuid": "f81b527d-eb0a-4876-8dfa-a41213e4b2ad",
     "showTitle": false,
     "tableResultSettingsMap": {},
     "title": ""
    }
   },
   "outputs": [],
   "source": [
    "# ==============================\n",
    "# Carregar dados do Spark\n",
    "# ==============================\n",
    "# Carrega lista do Spark (Silver)\n",
    "rows = spark.sql(\"SELECT DISTINCT Track, Artist FROM workspace.silver.classic_hit\").collect()\n",
    "tracks_list = [row[\"Track\"] for row in rows]\n",
    "print(f\"Total de músicas: {len(tracks_list)}\")\n"
   ]
  },
  {
   "cell_type": "code",
   "execution_count": 0,
   "metadata": {
    "application/vnd.databricks.v1+cell": {
     "cellMetadata": {
      "byteLimit": 2048000,
      "rowLimit": 10000
     },
     "inputWidgets": {},
     "nuid": "c6bafe00-6b45-4ea7-8cfc-5b1f79c1651d",
     "showTitle": false,
     "tableResultSettingsMap": {},
     "title": ""
    }
   },
   "outputs": [],
   "source": [
    "# ==============================\n",
    "# Buscar no Spotify em paralelo - 8 horas de execução\n",
    "# ==============================\n",
    "# Processa em batches menores\n",
    "batch_size = 500\n",
    "all_results = []\n",
    "\n",
    "for i in range(0, len(tracks_list), batch_size):\n",
    "    batch = tracks_list[i:i + batch_size]\n",
    "    print(f\"Processando batch {i // batch_size + 1} ({len(batch)} músicas)...\")\n",
    "\n",
    "    batch_results = []\n",
    "    for track in batch:\n",
    "        results, token, token_expiry = get_spotify_track_info(track, client_id, client_secret, token, token_expiry)\n",
    "        batch_results.extend(results)\n",
    "\n",
    "    # Converte para Spark DataFrame e salva incrementalmente\n",
    "    if batch_results:\n",
    "        df = pd.DataFrame([{\"json\": json.dumps(item)} for item in batch_results])\n",
    "        spark_df = spark.createDataFrame(df)\n",
    "\n",
    "        # Salvando resultado em um delta table(camada bronze)\n",
    "        spark_df.write.format(\"delta\") \\\n",
    "            .mode(\"append\") \\\n",
    "            .saveAsTable(\"workspace.bronze.search_track_artist\")\n",
    "\n",
    "    all_results.extend(batch_results)\n",
    "\n",
    "print(\"Finalizado. Total salvo:\", len(all_results))"
   ]
  },
  {
   "cell_type": "code",
   "execution_count": 0,
   "metadata": {
    "application/vnd.databricks.v1+cell": {
     "cellMetadata": {
      "byteLimit": 2048000,
      "implicitDf": true,
      "rowLimit": 10000
     },
     "inputWidgets": {},
     "nuid": "7e3b1398-59e0-4a93-9ab5-34bcffcda754",
     "showTitle": false,
     "tableResultSettingsMap": {
      "0": {
       "dataGridStateBlob": "{\"version\":1,\"tableState\":{\"columnPinning\":{\"left\":[\"#row_number#\"],\"right\":[]},\"columnSizing\":{\"album_id\":231},\"columnVisibility\":{}},\"settings\":{\"columns\":{\"album_image\":{\"format\":{\"preset\":\"string-preset-url\"}},\"external_url\":{\"format\":{\"preset\":\"string-preset-url\"}}}},\"syncTimestamp\":1759096097964}",
       "filterBlob": null,
       "queryPlanFiltersBlob": null,
       "tableResultIndex": 0
      }
     },
     "title": ""
    }
   },
   "outputs": [],
   "source": [
    "%sql\n",
    "SELECT * FROM workspace.bronze.search_track_artist;\n",
    "\n",
    "--DROP TABLE workspace.bronze.search_track_artist;"
   ]
  }
 ],
 "metadata": {
  "application/vnd.databricks.v1+notebook": {
   "computePreferences": {
    "hardware": {
     "accelerator": null,
     "gpuPoolId": null,
     "memory": null
    }
   },
   "dashboards": [],
   "environmentMetadata": {
    "base_environment": "",
    "environment_version": "3"
   },
   "inputWidgetPreferences": null,
   "language": "python",
   "notebookMetadata": {
    "mostRecentlyExecutedCommandWithImplicitDF": {
     "commandId": 6850476150513187,
     "dataframes": [
      "_sqldf"
     ]
    },
    "pythonIndentUnit": 4
   },
   "notebookName": "Carga Bronze - API Spotify 2025-09-21 12_43_10",
   "widgets": {}
  },
  "language_info": {
   "name": "python"
  }
 },
 "nbformat": 4,
 "nbformat_minor": 0
}
