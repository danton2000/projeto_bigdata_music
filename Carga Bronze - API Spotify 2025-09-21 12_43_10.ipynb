{
 "cells": [
  {
   "cell_type": "code",
   "execution_count": 0,
   "metadata": {
    "application/vnd.databricks.v1+cell": {
     "cellMetadata": {
      "byteLimit": 2048000,
      "rowLimit": 10000
     },
     "inputWidgets": {},
     "nuid": "74725c9f-d58e-4295-923d-0e725b1ad06e",
     "showTitle": false,
     "tableResultSettingsMap": {},
     "title": ""
    }
   },
   "outputs": [],
   "source": [
    "import requests\n",
    "import base64\n",
    "from concurrent.futures import ThreadPoolExecutor, as_completed\n",
    "import json\n",
    "import pandas as pd\n",
    "\n",
    "# Pega token\n",
    "def get_spotify_access_token(client_id, client_secret):\n",
    "    url = \"https://accounts.spotify.com/api/token\"\n",
    "    headers = {\n",
    "        \"Authorization\": \"Basic \" + base64.b64encode(\n",
    "            f\"{client_id}:{client_secret}\".encode()\n",
    "        ).decode()\n",
    "    }\n",
    "    data = {\"grant_type\": \"client_credentials\"}\n",
    "    response = requests.post(url, headers=headers, data=data)\n",
    "    response.raise_for_status()\n",
    "    return response.json()[\"access_token\"]\n",
    "\n",
    "# Autenticação\n",
    "client_id = \"7c4843d7e1a240b49affd223715ebb36\"\n",
    "client_secret = \"43a2691586354d8c856e1b22dca9b766\"\n",
    "token = get_spotify_access_token(client_id, client_secret)\n"
   ]
  },
  {
   "cell_type": "code",
   "execution_count": 0,
   "metadata": {
    "application/vnd.databricks.v1+cell": {
     "cellMetadata": {
      "byteLimit": 2048000,
      "rowLimit": 10000
     },
     "inputWidgets": {},
     "nuid": "f81b527d-eb0a-4876-8dfa-a41213e4b2ad",
     "showTitle": false,
     "tableResultSettingsMap": {},
     "title": ""
    }
   },
   "outputs": [],
   "source": [
    "# Carrega lista do Spark\n",
    "# Pegando as musicas da camada Silver\n",
    "rows = spark.sql(\n",
    "    \"SELECT DISTINCT Track, Artist FROM workspace.silver.classic_hit\"\n",
    ").collect()\n",
    "\n",
    "tracks_list = [{\"track\": row[\"Track\"]} for row in rows]\n",
    "\n",
    "count = 0\n",
    "\n",
    "for i in tracks_list:\n",
    "    count += 1\n",
    "\n",
    "print(count)"
   ]
  },
  {
   "cell_type": "code",
   "execution_count": 0,
   "metadata": {
    "application/vnd.databricks.v1+cell": {
     "cellMetadata": {
      "byteLimit": 2048000,
      "rowLimit": 10000
     },
     "inputWidgets": {},
     "nuid": "e1d44a58-3b4f-4fe4-b928-34970a42b080",
     "showTitle": false,
     "tableResultSettingsMap": {},
     "title": ""
    }
   },
   "outputs": [],
   "source": [
    "# Busca info de 1 música por chamada\n",
    "def get_spotify_track_info(track_name, token):\n",
    "    url = \"https://api.spotify.com/v1/search\"\n",
    "    headers = {\"Authorization\": f\"Bearer {token}\"}\n",
    "    params = {\n",
    "        \"q\": f\"track:{track_name}\",\n",
    "        \"type\": \"track\",\n",
    "        \"limit\": 1\n",
    "    }\n",
    "    response = requests.get(url, headers=headers, params=params)\n",
    "    if response.status_code == 200:\n",
    "        return response.json().get(\"tracks\", {}).get(\"items\", [])\n",
    "    return []"
   ]
  },
  {
   "cell_type": "code",
   "execution_count": 0,
   "metadata": {
    "application/vnd.databricks.v1+cell": {
     "cellMetadata": {
      "byteLimit": 2048000,
      "rowLimit": 10000
     },
     "inputWidgets": {},
     "nuid": "c6bafe00-6b45-4ea7-8cfc-5b1f79c1651d",
     "showTitle": false,
     "tableResultSettingsMap": {},
     "title": ""
    }
   },
   "outputs": [],
   "source": [
    "list_results = []\n",
    "\n",
    "# Executa com threads\n",
    "with ThreadPoolExecutor(max_workers=5) as executor:  # pode ajustar p/ 10 se não travar\n",
    "    futures = [\n",
    "        executor.submit(get_spotify_track_info, t[\"track\"], token)\n",
    "        for t in tracks_list\n",
    "    ]\n",
    "    for future in as_completed(futures):\n",
    "        list_results.extend(future.result())"
   ]
  },
  {
   "cell_type": "code",
   "execution_count": 0,
   "metadata": {
    "application/vnd.databricks.v1+cell": {
     "cellMetadata": {
      "byteLimit": 2048000,
      "rowLimit": 10000
     },
     "inputWidgets": {},
     "nuid": "3927dd08-209e-4c29-857e-ce3d5482295f",
     "showTitle": false,
     "tableResultSettingsMap": {},
     "title": ""
    }
   },
   "outputs": [],
   "source": [
    "print(len(list_results), \"resultados coletados\")\n",
    "\n",
    "# Cria DataFrame com uma única coluna 'json'\n",
    "df = pd.DataFrame([{\"json\": json.dumps(item)} for item in list_results])\n",
    "\n",
    "# Converte para Spark DataFrame\n",
    "spark_df = spark.createDataFrame(df)\n",
    "\n",
    "# Salva em Delta Table - Camanda Bronze - Dados Brutos\n",
    "spark_df.write.format(\"delta\") \\\n",
    "    .mode(\"overwrite\") \\\n",
    "    .saveAsTable(\"workspace.bronze.search_track_artist\")"
   ]
  },
  {
   "cell_type": "code",
   "execution_count": 0,
   "metadata": {
    "application/vnd.databricks.v1+cell": {
     "cellMetadata": {
      "byteLimit": 2048000,
      "implicitDf": true,
      "rowLimit": 10000
     },
     "inputWidgets": {},
     "nuid": "7e3b1398-59e0-4a93-9ab5-34bcffcda754",
     "showTitle": false,
     "tableResultSettingsMap": {
      "0": {
       "dataGridStateBlob": "{\"version\":1,\"tableState\":{\"columnPinning\":{\"left\":[\"#row_number#\"],\"right\":[]},\"columnSizing\":{\"album_id\":231},\"columnVisibility\":{}},\"settings\":{\"columns\":{\"album_image\":{\"format\":{\"preset\":\"string-preset-url\"}},\"external_url\":{\"format\":{\"preset\":\"string-preset-url\"}}}},\"syncTimestamp\":1759096097964}",
       "filterBlob": null,
       "queryPlanFiltersBlob": null,
       "tableResultIndex": 0
      }
     },
     "title": ""
    }
   },
   "outputs": [],
   "source": [
    "%sql\n",
    "SELECT count(*) FROM workspace.bronze.search_track_artist;\n",
    "\n",
    "--DROP TABLE workspace.bronze.search_track_artist;"
   ]
  }
 ],
 "metadata": {
  "application/vnd.databricks.v1+notebook": {
   "computePreferences": null,
   "dashboards": [],
   "environmentMetadata": {
    "base_environment": "",
    "environment_version": "3"
   },
   "inputWidgetPreferences": null,
   "language": "python",
   "notebookMetadata": {
    "mostRecentlyExecutedCommandWithImplicitDF": {
     "commandId": 5528742472286922,
     "dataframes": [
      "_sqldf"
     ]
    },
    "pythonIndentUnit": 4
   },
   "notebookName": "Carga Bronze - API Spotify 2025-09-21 12_43_10",
   "widgets": {}
  },
  "language_info": {
   "name": "python"
  }
 },
 "nbformat": 4,
 "nbformat_minor": 0
}
