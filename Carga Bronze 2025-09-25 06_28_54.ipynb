{
 "cells": [
  {
   "cell_type": "code",
   "execution_count": 0,
   "metadata": {
    "application/vnd.databricks.v1+cell": {
     "cellMetadata": {
      "byteLimit": 2048000,
      "rowLimit": 10000
     },
     "inputWidgets": {},
     "nuid": "0c13217e-284f-4431-9e82-f95e90d9d5f7",
     "showTitle": false,
     "tableResultSettingsMap": {},
     "title": ""
    }
   },
   "outputs": [],
   "source": [
    "import pandas as pd\n",
    "\n",
    "df = pd.read_csv(\n",
    "    \"/Volumes/workspace/default/files/ClassicHit.csv\"\n",
    ")\n",
    "#display(df)\n",
    "\n",
    "# Pegar esse arquivo e levar para a camada Bronze.\n",
    "spark.sql(\n",
    "    \"TRUNCATE TABLE workspace.bronze.classic_hit\"\n",
    ")\n",
    "\n",
    "spark_df = spark.createDataFrame(df)\n",
    "\n",
    "spark_df.write.format(\"delta\") \\\n",
    "    .mode(\"overwrite\") \\\n",
    "    .saveAsTable(\"workspace.bronze.classic_hit\")\n",
    "\n"
   ]
  },
  {
   "cell_type": "code",
   "execution_count": 0,
   "metadata": {
    "application/vnd.databricks.v1+cell": {
     "cellMetadata": {
      "byteLimit": 2048000,
      "rowLimit": 10000
     },
     "inputWidgets": {},
     "nuid": "c7525abd-cdec-4069-ae5c-5b2f80e08e63",
     "showTitle": false,
     "tableResultSettingsMap": {},
     "title": ""
    }
   },
   "outputs": [],
   "source": [
    "import requests\n",
    "import base64\n",
    "import pandas as pd\n",
    "\n",
    "# Funcao para conseguir o token para utilizar as requests da API\n",
    "def get_spotify_access_token(client_id, client_secret):\n",
    "    url = \"https://accounts.spotify.com/api/token\"\n",
    "    headers = {\n",
    "        \"Authorization\": \"Basic \" + base64.b64encode(\n",
    "            f\"{client_id}:{client_secret}\".encode()\n",
    "        ).decode()\n",
    "    }\n",
    "    data = {\n",
    "        \"grant_type\": \"client_credentials\"\n",
    "    }\n",
    "    response = requests.post(url, headers=headers, data=data)\n",
    "    if response.status_code == 200:\n",
    "        return response.json()[\"access_token\"]\n",
    "    else:\n",
    "        raise Exception(f\"Failed to get token: {response.text}\")\n",
    "\n",
    "# Função para buscar informações de uma música no Spotify\n",
    "def get_spotify_track_info(track_name, artist_name, token):\n",
    "    url = \"https://api.spotify.com/v1/search\"\n",
    "    headers = {\"Authorization\": f\"Bearer {token}\"}\n",
    "    params = {\n",
    "        \"q\": f\"track:{track_name} artist:{artist_name}\",\n",
    "        \"type\": \"track\",\n",
    "        \"limit\": 1\n",
    "    }\n",
    "    response = requests.get(url, headers=headers, params=params)\n",
    "    if response.status_code == 200:\n",
    "    \n",
    "        items = response.json()[\"tracks\"][\"items\"]\n",
    "\n",
    "        if items:\n",
    "            return {\n",
    "                \"return\": items\n",
    "            }\n",
    "            \n",
    "        return None\n",
    "\n",
    "# Usa sua client_id e client_secret aqui, para autenticacao da API\n",
    "client_id = \"50838a69a5fc445b86d340b4b97ef5b4\"\n",
    "client_secret = \"21932daca2264477aa9bda20c037c6e2\"\n",
    "token = get_spotify_access_token(client_id, client_secret)\n",
    "\n",
    "track = get_spotify_track_info(\"A Beautiful Morning\", \"The Rascals\", token)\n",
    "\n",
    "print(track)\n",
    "\n",
    "# Interindo a informacao da API do Spotify no Pandas DataFrame\n",
    "df = pd.DataFrame([track])\n",
    "display(df)\n"
   ]
  },
  {
   "cell_type": "markdown",
   "metadata": {
    "application/vnd.databricks.v1+cell": {
     "cellMetadata": {},
     "inputWidgets": {},
     "nuid": "0dd9a792-95c6-4ec9-a229-c0740d655672",
     "showTitle": false,
     "tableResultSettingsMap": {},
     "title": ""
    }
   },
   "source": []
  }
 ],
 "metadata": {
  "application/vnd.databricks.v1+notebook": {
   "computePreferences": null,
   "dashboards": [],
   "environmentMetadata": {
    "base_environment": "",
    "environment_version": "3"
   },
   "inputWidgetPreferences": null,
   "language": "python",
   "notebookMetadata": {
    "mostRecentlyExecutedCommandWithImplicitDF": {
     "commandId": 8303026341162591,
     "dataframes": [
      "_sqldf"
     ]
    },
    "pythonIndentUnit": 4
   },
   "notebookName": "Carga Bronze 2025-09-25 06_28_54",
   "widgets": {}
  },
  "language_info": {
   "name": "python"
  }
 },
 "nbformat": 4,
 "nbformat_minor": 0
}
