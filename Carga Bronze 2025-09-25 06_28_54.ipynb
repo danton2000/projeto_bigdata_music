{
 "cells": [
  {
   "cell_type": "code",
   "execution_count": 0,
   "metadata": {
    "application/vnd.databricks.v1+cell": {
     "cellMetadata": {
      "byteLimit": 2048000,
      "rowLimit": 10000
     },
     "inputWidgets": {},
     "nuid": "f7d3118c-7e72-4ed0-96ff-19d6219c6773",
     "showTitle": false,
     "tableResultSettingsMap": {},
     "title": ""
    }
   },
   "outputs": [],
   "source": [
    "# Importando lib Pandas para o processamento\n",
    "import pandas as pd"
   ]
  },
  {
   "cell_type": "code",
   "execution_count": 0,
   "metadata": {
    "application/vnd.databricks.v1+cell": {
     "cellMetadata": {
      "byteLimit": 2048000,
      "rowLimit": 10000
     },
     "inputWidgets": {},
     "nuid": "0c13217e-284f-4431-9e82-f95e90d9d5f7",
     "showTitle": false,
     "tableResultSettingsMap": {},
     "title": ""
    }
   },
   "outputs": [],
   "source": [
    "# Limpando base da camada Bronze\n",
    "spark.sql(\n",
    "    \"TRUNCATE TABLE workspace.bronze.classic_hit\"\n",
    ")\n"
   ]
  },
  {
   "cell_type": "code",
   "execution_count": 0,
   "metadata": {
    "application/vnd.databricks.v1+cell": {
     "cellMetadata": {
      "byteLimit": 2048000,
      "rowLimit": 10000
     },
     "inputWidgets": {},
     "nuid": "60408889-c01f-45a3-85ff-0de6e2949655",
     "showTitle": false,
     "tableResultSettingsMap": {},
     "title": ""
    }
   },
   "outputs": [],
   "source": [
    "# Lê o arquivo CSV e cria um DataFrame Pandas\n",
    "# Arquivo armazenado em um Volume do Unity Catalog, ou seja, dentro do armazenamento gerenciado pelo Databricks\n",
    "df = pd.read_csv(\"/Volumes/workspace/default/files/ClassicHit.csv\")\n",
    "\n",
    "# Converte o DataFrame Pandas para um DataFrame Spark\n",
    "spark_df = spark.createDataFrame(df)\n",
    "\n",
    "# Escreve o DataFrame na camada Bronze como uma tabela Delta\n",
    "# Sobrescreve se já existir\n",
    "spark_df.write.format(\"delta\") \\\n",
    "    .mode(\"overwrite\") \\\n",
    "    .saveAsTable(\"workspace.bronze.classic_hit\")"
   ]
  }
 ],
 "metadata": {
  "application/vnd.databricks.v1+notebook": {
   "computePreferences": null,
   "dashboards": [],
   "environmentMetadata": {
    "base_environment": "",
    "environment_version": "3"
   },
   "inputWidgetPreferences": null,
   "language": "python",
   "notebookMetadata": {
    "mostRecentlyExecutedCommandWithImplicitDF": {
     "commandId": 6711025955564785,
     "dataframes": [
      "_sqldf"
     ]
    },
    "pythonIndentUnit": 4
   },
   "notebookName": "Carga Bronze 2025-09-25 06_28_54",
   "widgets": {}
  },
  "language_info": {
   "name": "python"
  }
 },
 "nbformat": 4,
 "nbformat_minor": 0
}
