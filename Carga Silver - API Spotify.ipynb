{
 "cells": [
  {
   "cell_type": "markdown",
   "metadata": {
    "application/vnd.databricks.v1+cell": {
     "cellMetadata": {
      "byteLimit": 2048000,
      "rowLimit": 10000
     },
     "inputWidgets": {},
     "nuid": "af977f76-c656-40c9-964d-2f5eb50043f6",
     "showTitle": false,
     "tableResultSettingsMap": {},
     "title": ""
    }
   },
   "source": [
    "# Carga dos dados da API do Spotify para camada Silver"
   ]
  },
  {
   "cell_type": "markdown",
   "metadata": {
    "application/vnd.databricks.v1+cell": {
     "cellMetadata": {
      "byteLimit": 2048000,
      "rowLimit": 10000
     },
     "inputWidgets": {},
     "nuid": "62e66983-ca1e-4970-877f-91749bef848c",
     "showTitle": false,
     "tableResultSettingsMap": {},
     "title": ""
    }
   },
   "source": [
    "## Importando Libs\n",
    "- pandas -> Manipulação de dados em tabelas (DataFrames) no Python\n",
    "- pyspark.sql.functions -> Funções do PySpark usadas para trabalhar com colunas, expressões e JSONs\n",
    "- pyspark.sql.types -> Tipos e estruturas usados para definir o schema (formato) dos dados no PySpark"
   ]
  },
  {
   "cell_type": "code",
   "execution_count": 0,
   "metadata": {
    "application/vnd.databricks.v1+cell": {
     "cellMetadata": {
      "byteLimit": 2048000,
      "rowLimit": 10000
     },
     "inputWidgets": {},
     "nuid": "9e56c2d4-8702-464f-872a-b3cf9e4b862d",
     "showTitle": false,
     "tableResultSettingsMap": {},
     "title": ""
    }
   },
   "outputs": [],
   "source": [
    "import pandas as pd\n",
    "\n",
    "from pyspark.sql.functions import from_json, col, explode, expr, element_at  \n",
    "\n",
    "from pyspark.sql.types import StructType, StructField, StringType, IntegerType, ArrayType  "
   ]
  },
  {
   "cell_type": "markdown",
   "metadata": {
    "application/vnd.databricks.v1+cell": {
     "cellMetadata": {
      "byteLimit": 2048000,
      "rowLimit": 10000
     },
     "inputWidgets": {},
     "nuid": "a835b77e-fc88-4cc2-9561-79efc27ee501",
     "showTitle": false,
     "tableResultSettingsMap": {},
     "title": ""
    }
   },
   "source": [
    "## Verificando se a delta table existe\n",
    "## Limpando delta table da search_track_artist da camada Silver"
   ]
  },
  {
   "cell_type": "code",
   "execution_count": 0,
   "metadata": {
    "application/vnd.databricks.v1+cell": {
     "cellMetadata": {
      "byteLimit": 2048000,
      "implicitDf": true,
      "rowLimit": 10000
     },
     "inputWidgets": {},
     "nuid": "bdcdbe10-2e4e-4935-b52e-044982046dc8",
     "showTitle": false,
     "tableResultSettingsMap": {},
     "title": ""
    }
   },
   "outputs": [],
   "source": [
    "\n",
    "\n",
    "if spark.catalog.tableExists(\"workspace.silver.search_track_artist\"):\n",
    "    spark.sql(\"TRUNCATE TABLE workspace.silver.search_track_artist\")\n",
    "else:\n",
    "    print(\"Tabela não existe. Nenhuma ação foi tomada.\")\n"
   ]
  },
  {
   "cell_type": "markdown",
   "metadata": {
    "application/vnd.databricks.v1+cell": {
     "cellMetadata": {
      "byteLimit": 2048000,
      "rowLimit": 10000
     },
     "inputWidgets": {},
     "nuid": "7e981d5d-e984-4792-ba01-8f6647869baa",
     "showTitle": false,
     "tableResultSettingsMap": {},
     "title": ""
    }
   },
   "source": [
    "## Definição dos Schemas\n",
    "- Schema para artistas\n",
    "- imagens do álbum\n",
    "- álbum de cada faixa\n",
    "- Schema da faixa (track)\n",
    "\n"
   ]
  },
  {
   "cell_type": "code",
   "execution_count": 0,
   "metadata": {
    "application/vnd.databricks.v1+cell": {
     "cellMetadata": {
      "byteLimit": 2048000,
      "rowLimit": 10000
     },
     "inputWidgets": {},
     "nuid": "74725c9f-d58e-4295-923d-0e725b1ad06e",
     "showTitle": false,
     "tableResultSettingsMap": {},
     "title": ""
    }
   },
   "outputs": [],
   "source": [
    "# Schema para artistas\n",
    "artist_schema = ArrayType(\n",
    "    StructType([\n",
    "        StructField(\"id\", StringType(), True),\n",
    "        StructField(\"name\", StringType(), True)\n",
    "    ])\n",
    ")\n",
    "\n",
    "# Schema para imagens do álbum\n",
    "image_schema = ArrayType(\n",
    "    StructType([\n",
    "        StructField(\"height\", IntegerType(), True),\n",
    "        StructField(\"width\", IntegerType(), True),\n",
    "        StructField(\"url\", StringType(), True)\n",
    "    ])\n",
    ")\n",
    "\n",
    "# Schema para o álbum de cada faixa\n",
    "album_schema = StructType([\n",
    "    StructField(\"album_type\", StringType(), True),\n",
    "    StructField(\"total_tracks\", StringType(), True),\n",
    "    StructField(\"id\", StringType(), True),\n",
    "    StructField(\"name\", StringType(), True),\n",
    "    StructField(\"images\", image_schema, True)\n",
    "])\n",
    "\n",
    "# Schema da faixa (track), que referencia álbum e artistas\n",
    "track_schema = StructType([\n",
    "    StructField(\"id\", StringType(), True),\n",
    "    StructField(\"name\", StringType(), True),\n",
    "    StructField(\"popularity\", IntegerType(), True),\n",
    "    StructField(\"duration_ms\", IntegerType(), True),\n",
    "    StructField(\"album\", album_schema, True),\n",
    "    StructField(\"artists\", artist_schema, True)\n",
    "])"
   ]
  },
  {
   "cell_type": "markdown",
   "metadata": {
    "application/vnd.databricks.v1+cell": {
     "cellMetadata": {
      "byteLimit": 2048000,
      "rowLimit": 10000
     },
     "inputWidgets": {},
     "nuid": "2c1a1057-1d4c-4ebd-80a1-1eee2b7e284f",
     "showTitle": false,
     "tableResultSettingsMap": {},
     "title": ""
    }
   },
   "source": [
    "## Extraindo as informações brutas da camada Bronze"
   ]
  },
  {
   "cell_type": "code",
   "execution_count": 0,
   "metadata": {
    "application/vnd.databricks.v1+cell": {
     "cellMetadata": {
      "byteLimit": 2048000,
      "rowLimit": 10000
     },
     "inputWidgets": {},
     "nuid": "cdd2187f-3996-4ba3-b17f-b40217dd1025",
     "showTitle": false,
     "tableResultSettingsMap": {},
     "title": ""
    }
   },
   "outputs": [],
   "source": [
    "# Bronze contém os JSONs crus retornados pela API do Spotify\n",
    "# Lê a tabela bronze (json bruto)\n",
    "df = spark.table(\"workspace.bronze.search_track_artist\")"
   ]
  },
  {
   "cell_type": "markdown",
   "metadata": {
    "application/vnd.databricks.v1+cell": {
     "cellMetadata": {
      "byteLimit": 2048000,
      "rowLimit": 10000
     },
     "inputWidgets": {},
     "nuid": "eab08079-4e3d-4135-b98e-7fedb4b4a352",
     "showTitle": false,
     "tableResultSettingsMap": {},
     "title": ""
    }
   },
   "source": [
    "## Convertando o Json 'String' para um formato estruturado com as colunas"
   ]
  },
  {
   "cell_type": "code",
   "execution_count": 0,
   "metadata": {
    "application/vnd.databricks.v1+cell": {
     "cellMetadata": {
      "byteLimit": 2048000,
      "rowLimit": 10000
     },
     "inputWidgets": {},
     "nuid": "be39dd5c-3a74-4562-ae19-c90df3e17b7f",
     "showTitle": false,
     "tableResultSettingsMap": {},
     "title": ""
    }
   },
   "outputs": [],
   "source": [
    "# Faz o parse do JSON\n",
    "df_parsed = df.withColumn(\"parsed\", from_json(col(\"json\"), track_schema))"
   ]
  },
  {
   "cell_type": "markdown",
   "metadata": {
    "application/vnd.databricks.v1+cell": {
     "cellMetadata": {
      "byteLimit": 2048000,
      "rowLimit": 10000
     },
     "inputWidgets": {},
     "nuid": "e15b9fb3-cfff-421f-9521-fa8e2e665d8f",
     "showTitle": false,
     "tableResultSettingsMap": {},
     "title": ""
    }
   },
   "source": [
    "## Normalização das colunas"
   ]
  },
  {
   "cell_type": "code",
   "execution_count": 0,
   "metadata": {
    "application/vnd.databricks.v1+cell": {
     "cellMetadata": {
      "byteLimit": 2048000,
      "rowLimit": 10000
     },
     "inputWidgets": {},
     "nuid": "18b3c8d5-f350-43b6-9be1-8ab65c2f6df8",
     "showTitle": false,
     "tableResultSettingsMap": {},
     "title": ""
    }
   },
   "outputs": [],
   "source": [
    "\n",
    "# ================================\n",
    "# 4. Seleção e normalização das colunas\n",
    "# ================================\n",
    "\n",
    "# Seleciona colunas principais + pega a primeira imagem do álbum\n",
    "df_selected = df_parsed.select(\n",
    "    col(\"parsed.id\").alias(\"track_id\"),\n",
    "    col(\"parsed.name\").alias(\"track_name\"),\n",
    "    col(\"parsed.popularity\"),\n",
    "    col(\"parsed.duration_ms\"),\n",
    "    col(\"parsed.album.album_type\").alias(\"album_type\"),\n",
    "    col(\"parsed.album.total_tracks\").alias(\"total_tracks\"),\n",
    "    col(\"parsed.album.id\").alias(\"album_id\"),\n",
    "    col(\"parsed.album.name\").alias(\"album_name\"),\n",
    "    expr(\"get(parsed.album.images, 0).url\").alias(\"album_image_url\"),  # pega a 1ª imagem, mas devolve NULL se não tiver\n",
    "    col(\"parsed.artists\").alias(\"artists\")\n",
    ")"
   ]
  },
  {
   "cell_type": "markdown",
   "metadata": {
    "application/vnd.databricks.v1+cell": {
     "cellMetadata": {
      "byteLimit": 2048000,
      "rowLimit": 10000
     },
     "inputWidgets": {},
     "nuid": "383546bb-01a1-4ed9-9e02-3375d0c2a43f",
     "showTitle": false,
     "tableResultSettingsMap": {},
     "title": ""
    }
   },
   "source": [
    "##Explosão de artistas"
   ]
  },
  {
   "cell_type": "code",
   "execution_count": 0,
   "metadata": {
    "application/vnd.databricks.v1+cell": {
     "cellMetadata": {
      "byteLimit": 2048000,
      "rowLimit": 10000
     },
     "inputWidgets": {},
     "nuid": "3a33fa72-20b7-42ac-99d7-b2bdd58470e7",
     "showTitle": false,
     "tableResultSettingsMap": {},
     "title": ""
    }
   },
   "outputs": [],
   "source": [
    "# Muitas músicas possuem vários artistas.\n",
    "# explode() cria uma nova linha para cada artista vinculado à faixa.\n",
    "# Explodindo os artistas\n",
    "df_exploded = df_selected.withColumn(\"artist\", explode(\"artists\")) \\\n",
    "    .select(\n",
    "        \"track_id\",\n",
    "        \"track_name\",\n",
    "        \"popularity\",\n",
    "        \"duration_ms\",\n",
    "        \"album_type\",\n",
    "        \"total_tracks\",\n",
    "        \"album_id\",\n",
    "        \"album_name\",\n",
    "        \"album_image_url\",\n",
    "        col(\"artist.id\").alias(\"artist_id\"),\n",
    "        col(\"artist.name\").alias(\"artist_name\")\n",
    "    )\n",
    "\n",
    "# Exemplo simples: remove duplicados de música + artista\n",
    "df_exploded = df_exploded.dropDuplicates([\"track_id\", \"artist_id\"])"
   ]
  },
  {
   "cell_type": "markdown",
   "metadata": {
    "application/vnd.databricks.v1+cell": {
     "cellMetadata": {
      "byteLimit": 2048000,
      "rowLimit": 10000
     },
     "inputWidgets": {},
     "nuid": "e034da39-b89d-4ed2-a1cd-418a940dc164",
     "showTitle": false,
     "tableResultSettingsMap": {},
     "title": ""
    }
   },
   "source": [
    "## Carga na camada Silver com as informações já Transformadas/Processadas"
   ]
  },
  {
   "cell_type": "code",
   "execution_count": 0,
   "metadata": {
    "application/vnd.databricks.v1+cell": {
     "cellMetadata": {
      "byteLimit": 2048000,
      "rowLimit": 10000
     },
     "inputWidgets": {},
     "nuid": "1ddd6df2-363f-4816-8b9c-85f858312b4e",
     "showTitle": false,
     "tableResultSettingsMap": {},
     "title": ""
    }
   },
   "outputs": [],
   "source": [
    "# Salvamos o resultado como Delta Table,\n",
    "# estruturado e pronto para análises posteriores.\n",
    "# Salva como Delta Table silver\n",
    "df_exploded.write.format(\"delta\") \\\n",
    "    .mode(\"overwrite\") \\\n",
    "    .saveAsTable(\"workspace.silver.search_track_artist\")"
   ]
  }
 ],
 "metadata": {
  "application/vnd.databricks.v1+notebook": {
   "computePreferences": {
    "hardware": {
     "accelerator": null,
     "gpuPoolId": null,
     "memory": null
    }
   },
   "dashboards": [],
   "environmentMetadata": {
    "base_environment": "",
    "environment_version": "3"
   },
   "inputWidgetPreferences": null,
   "language": "python",
   "notebookMetadata": {
    "mostRecentlyExecutedCommandWithImplicitDF": {
     "commandId": 6850476150513193,
     "dataframes": [
      "_sqldf"
     ]
    },
    "pythonIndentUnit": 4
   },
   "notebookName": "Carga Silver - API Spotify",
   "widgets": {}
  },
  "language_info": {
   "name": "python"
  }
 },
 "nbformat": 4,
 "nbformat_minor": 0
}
