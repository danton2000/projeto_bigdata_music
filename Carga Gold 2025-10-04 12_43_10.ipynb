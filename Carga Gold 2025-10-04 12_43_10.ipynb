{
 "cells": [
  {
   "cell_type": "code",
   "execution_count": 0,
   "metadata": {
    "application/vnd.databricks.v1+cell": {
     "cellMetadata": {
      "byteLimit": 2048000,
      "implicitDf": true,
      "rowLimit": 10000
     },
     "inputWidgets": {},
     "nuid": "bdcdbe10-2e4e-4935-b52e-044982046dc8",
     "showTitle": false,
     "tableResultSettingsMap": {},
     "title": ""
    }
   },
   "outputs": [],
   "source": [
    "# Leitura das tabelas Silver\n",
    "from pyspark.sql import functions as F\n",
    "\n",
    "# Ler as tabelas Silver\n",
    "df_api = spark.table(\"workspace.silver.search_track_artist\")\n",
    "df_csv = spark.table(\"workspace.silver.classic_hit\")"
   ]
  },
  {
   "cell_type": "code",
   "execution_count": 0,
   "metadata": {
    "application/vnd.databricks.v1+cell": {
     "cellMetadata": {
      "byteLimit": 2048000,
      "rowLimit": 10000
     },
     "inputWidgets": {},
     "nuid": "74725c9f-d58e-4295-923d-0e725b1ad06e",
     "showTitle": false,
     "tableResultSettingsMap": {},
     "title": ""
    }
   },
   "outputs": [],
   "source": [
    "# Padronizar nomes e tipos\n",
    "\n",
    "# Padroniza colunas do CSV\n",
    "df_csv = (\n",
    "    df_csv\n",
    "    .withColumnRenamed(\"track\", \"track_name\")\n",
    "    .withColumnRenamed(\"artist\", \"artist_name\")\n",
    "    .withColumnRenamed(\"Duration\", \"duration_ms\")\n",
    "    .withColumnRenamed(\"Popularity\", \"csv_popularity\")\n",
    ")\n",
    "\n",
    "# Padroniza colunas da API\n",
    "df_api = (\n",
    "    df_api\n",
    "    .withColumnRenamed(\"popularity\", \"api_popularity\")\n",
    ")"
   ]
  },
  {
   "cell_type": "code",
   "execution_count": 0,
   "metadata": {
    "application/vnd.databricks.v1+cell": {
     "cellMetadata": {
      "byteLimit": 2048000,
      "rowLimit": 10000
     },
     "inputWidgets": {},
     "nuid": "cdd2187f-3996-4ba3-b17f-b40217dd1025",
     "showTitle": false,
     "tableResultSettingsMap": {},
     "title": ""
    }
   },
   "outputs": [],
   "source": [
    "# Fazer o join (normalizado)\n",
    "df_join = (\n",
    "    df_csv.alias(\"csv\")\n",
    "    .join(\n",
    "        df_api.alias(\"api\"),\n",
    "        (F.lower(F.trim(F.col(\"csv.track_name\"))) == F.lower(F.trim(F.col(\"api.track_name\")))) &\n",
    "        (F.lower(F.trim(F.col(\"csv.artist_name\"))) == F.lower(F.trim(F.col(\"api.artist_name\")))),\n",
    "        \"inner\"\n",
    "    )\n",
    ")"
   ]
  },
  {
   "cell_type": "code",
   "execution_count": 0,
   "metadata": {
    "application/vnd.databricks.v1+cell": {
     "cellMetadata": {
      "byteLimit": 2048000,
      "rowLimit": 10000
     },
     "inputWidgets": {},
     "nuid": "be39dd5c-3a74-4562-ae19-c90df3e17b7f",
     "showTitle": false,
     "tableResultSettingsMap": {},
     "title": ""
    }
   },
   "outputs": [],
   "source": [
    "# Criar colunas analíticas (camada Gold)\n",
    "df_gold = (\n",
    "    df_join\n",
    "    .withColumn(\"duration_min\", F.col(\"api.duration_ms\") / 60000)\n",
    "    .withColumn(\"popularity_diff\", F.col(\"api_popularity\") - F.col(\"csv_popularity\"))\n",
    "    .withColumn(\"dance_score\", F.col(\"Danceability\") * (1 - F.col(\"Speechiness\")))\n",
    "    .withColumn(\"is_hit\", F.when(F.col(\"api_popularity\") > 70, F.lit(\"Sim\")).otherwise(\"Não\"))\n",
    "    .select(\n",
    "        \"api.track_id\", \"csv.track_name\", \"csv.artist_name\",\n",
    "        \"csv.Genre\", \"csv.year\",\n",
    "        \"api.album_name\", \"api.album_type\", \"api.album_image_url\",\n",
    "        \"csv.Danceability\", \"csv.Speechiness\",\n",
    "        \"csv_popularity\", \"api_popularity\", \"popularity_diff\",\n",
    "        \"duration_min\", \"dance_score\", \"is_hit\"\n",
    "    )\n",
    ")"
   ]
  },
  {
   "cell_type": "code",
   "execution_count": 0,
   "metadata": {
    "application/vnd.databricks.v1+cell": {
     "cellMetadata": {
      "byteLimit": 2048000,
      "rowLimit": 10000
     },
     "inputWidgets": {},
     "nuid": "971e6823-9d04-4def-8be3-b9936ea95ff1",
     "showTitle": false,
     "tableResultSettingsMap": {},
     "title": ""
    }
   },
   "outputs": [],
   "source": [
    "# Crie a tabela final:\n",
    "(\n",
    "    df_gold\n",
    "    .write\n",
    "    .format(\"delta\")\n",
    "    .mode(\"overwrite\")\n",
    "    .saveAsTable(\"workspace.gold.tracks_analytics\")\n",
    ")"
   ]
  },
  {
   "cell_type": "code",
   "execution_count": 0,
   "metadata": {
    "application/vnd.databricks.v1+cell": {
     "cellMetadata": {
      "byteLimit": 2048000,
      "rowLimit": 10000
     },
     "inputWidgets": {},
     "nuid": "8d0db2fd-b048-419d-9270-a17d336c4756",
     "showTitle": false,
     "tableResultSettingsMap": {},
     "title": ""
    }
   },
   "outputs": [],
   "source": [
    "# visões agregadas(Genero)\n",
    "\n",
    "# Média por gênero\n",
    "df_genres = (\n",
    "    df_gold.groupBy(\"Genre\")\n",
    "    .agg(\n",
    "        F.avg(\"api_popularity\").alias(\"avg_popularity\"),\n",
    "        F.avg(\"Danceability\").alias(\"avg_danceability\"),\n",
    "        F.count(\"*\").alias(\"num_tracks\")\n",
    "    )\n",
    ")\n",
    "df_genres.write.format(\"delta\").mode(\"overwrite\").saveAsTable(\"workspace.gold.genres_summary\")"
   ]
  },
  {
   "cell_type": "code",
   "execution_count": 0,
   "metadata": {
    "application/vnd.databricks.v1+cell": {
     "cellMetadata": {
      "byteLimit": 2048000,
      "implicitDf": true,
      "rowLimit": 10000
     },
     "inputWidgets": {},
     "nuid": "93a8c6c1-bef8-4a44-bd00-88c8d0602c9b",
     "showTitle": false,
     "tableResultSettingsMap": {},
     "title": ""
    }
   },
   "outputs": [],
   "source": [
    "%sql\n",
    "SELECT * FROM workspace.gold.genres_summary;"
   ]
  }
 ],
 "metadata": {
  "application/vnd.databricks.v1+notebook": {
   "computePreferences": {
    "hardware": {
     "accelerator": null,
     "gpuPoolId": null,
     "memory": null
    }
   },
   "dashboards": [],
   "environmentMetadata": {
    "base_environment": "",
    "environment_version": "3"
   },
   "inputWidgetPreferences": null,
   "language": "python",
   "notebookMetadata": {
    "mostRecentlyExecutedCommandWithImplicitDF": {
     "commandId": 5397354257378142,
     "dataframes": [
      "_sqldf"
     ]
    },
    "pythonIndentUnit": 4
   },
   "notebookName": "Carga Gold 2025-10-04 12_43_10",
   "widgets": {}
  },
  "language_info": {
   "name": "python"
  }
 },
 "nbformat": 4,
 "nbformat_minor": 0
}
