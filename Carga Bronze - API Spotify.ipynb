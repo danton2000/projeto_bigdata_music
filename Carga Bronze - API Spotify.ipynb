{
 "cells": [
  {
   "cell_type": "markdown",
   "metadata": {
    "application/vnd.databricks.v1+cell": {
     "cellMetadata": {},
     "inputWidgets": {},
     "nuid": "d8be6017-44e4-47ab-95f3-a58d4321e3f0",
     "showTitle": false,
     "tableResultSettingsMap": {},
     "title": ""
    }
   },
   "source": [
    "# Carga com API do Spotify para a camada Bronze(Dados brutos)"
   ]
  },
  {
   "cell_type": "markdown",
   "metadata": {
    "application/vnd.databricks.v1+cell": {
     "cellMetadata": {},
     "inputWidgets": {},
     "nuid": "54c3b1f2-a379-4175-8e1b-430dd575165c",
     "showTitle": false,
     "tableResultSettingsMap": {},
     "title": ""
    }
   },
   "source": [
    "## Importacao de LIBs\n",
    "- requests → faz requisições HTTP (GET, POST etc.) para acessar APIs ou sites.\n",
    "- base64 → codifica e decodifica dados em formato Base64 (ex: para autenticação em APIs).\n",
    "- concurrent.futures (ThreadPoolExecutor, as_completed) → executa tarefas em paralelo (threads) para acelerar loops, como várias chamadas de API.\n",
    "- json → lê e grava dados no formato JSON (muito usado em APIs).\n",
    "- pandas → manipula e analisa dados em tabelas (DataFrames).\n",
    "- time → mede ou controla o tempo (ex: sleep, medir duração de execução)."
   ]
  },
  {
   "cell_type": "code",
   "execution_count": 0,
   "metadata": {
    "application/vnd.databricks.v1+cell": {
     "cellMetadata": {
      "byteLimit": 2048000,
      "rowLimit": 10000
     },
     "inputWidgets": {},
     "nuid": "5c2acd98-4e54-4caa-854a-74777ff67ef9",
     "showTitle": false,
     "tableResultSettingsMap": {},
     "title": ""
    }
   },
   "outputs": [],
   "source": [
    "import requests\n",
    "import base64\n",
    "from concurrent.futures import ThreadPoolExecutor, as_completed\n",
    "import json\n",
    "import pandas as pd\n",
    "import time"
   ]
  },
  {
   "cell_type": "markdown",
   "metadata": {
    "application/vnd.databricks.v1+cell": {
     "cellMetadata": {},
     "inputWidgets": {},
     "nuid": "b8fb49f2-c7f5-4c95-bddc-3deb70c74e41",
     "showTitle": false,
     "tableResultSettingsMap": {},
     "title": ""
    }
   },
   "source": [
    "## Verificando se a delta table existe\n",
    "## Limpando delta table da search_track_artist da camada Bronze"
   ]
  },
  {
   "cell_type": "code",
   "execution_count": 0,
   "metadata": {
    "application/vnd.databricks.v1+cell": {
     "cellMetadata": {
      "byteLimit": 2048000,
      "rowLimit": 10000
     },
     "inputWidgets": {},
     "nuid": "feeba3ab-6662-4074-b617-236c320813a2",
     "showTitle": false,
     "tableResultSettingsMap": {},
     "title": ""
    }
   },
   "outputs": [],
   "source": [
    "if spark.catalog.tableExists(\"workspace.bronze.search_track_artist\"):\n",
    "    spark.sql(\"TRUNCATE TABLE workspace.bronze.search_track_artist\")\n",
    "else:\n",
    "    print(\"Tabela não existe. Nenhuma ação foi tomada.\")\n"
   ]
  },
  {
   "cell_type": "markdown",
   "metadata": {
    "application/vnd.databricks.v1+cell": {
     "cellMetadata": {},
     "inputWidgets": {},
     "nuid": "9d4b5a08-94fa-4317-8ef6-0fd2d114df9f",
     "showTitle": false,
     "tableResultSettingsMap": {},
     "title": ""
    }
   },
   "source": [
    "## Autenticação"
   ]
  },
  {
   "cell_type": "code",
   "execution_count": 0,
   "metadata": {
    "application/vnd.databricks.v1+cell": {
     "cellMetadata": {
      "byteLimit": 2048000,
      "rowLimit": 10000
     },
     "inputWidgets": {},
     "nuid": "74725c9f-d58e-4295-923d-0e725b1ad06e",
     "showTitle": false,
     "tableResultSettingsMap": {},
     "title": ""
    }
   },
   "outputs": [],
   "source": [
    "# Função para pegar token\n",
    "def get_spotify_access_token(client_id, client_secret):\n",
    "    url = \"https://accounts.spotify.com/api/token\"\n",
    "    headers = {\n",
    "        \"Authorization\": \"Basic \" + base64.b64encode(\n",
    "            f\"{client_id}:{client_secret}\".encode()\n",
    "        ).decode()\n",
    "    }\n",
    "    data = {\"grant_type\": \"client_credentials\"}\n",
    "    response = requests.post(url, headers=headers, data=data)\n",
    "    response.raise_for_status()\n",
    "    token_info = response.json()\n",
    "    return token_info[\"access_token\"], time.time() + token_info[\"expires_in\"] - 60  # expira em timestamp\n"
   ]
  },
  {
   "cell_type": "markdown",
   "metadata": {
    "application/vnd.databricks.v1+cell": {
     "cellMetadata": {},
     "inputWidgets": {},
     "nuid": "367b56e0-56d6-4947-b37c-8ce6f1451663",
     "showTitle": false,
     "tableResultSettingsMap": {},
     "title": ""
    }
   },
   "source": [
    "## Renovação do token da Autenticação"
   ]
  },
  {
   "cell_type": "code",
   "execution_count": 0,
   "metadata": {
    "application/vnd.databricks.v1+cell": {
     "cellMetadata": {
      "byteLimit": 2048000,
      "rowLimit": 10000
     },
     "inputWidgets": {},
     "nuid": "730859b2-b9f6-4eda-9c37-fd0e310b4c81",
     "showTitle": false,
     "tableResultSettingsMap": {},
     "title": ""
    }
   },
   "outputs": [],
   "source": [
    "# Função para renovar token se necessário\n",
    "def get_valid_token(client_id, client_secret, token, token_expiry):\n",
    "    \"\"\"\n",
    "    Garante que sempre exista um token válido do Spotify API.\n",
    "\n",
    "    Args:\n",
    "        client_id (str): Client ID da aplicação registrada no Spotify.\n",
    "        client_secret (str): Client Secret da aplicação registrada no Spotify.\n",
    "        token (str): Token de acesso atual (pode estar expirado).\n",
    "        token_expiry (float): Timestamp (em segundos desde epoch) indicando quando o token expira.\n",
    "\n",
    "    Returns:\n",
    "        tuple:\n",
    "            - token (str): Token válido (renovado se necessário).\n",
    "            - token_expiry (float): Novo timestamp de expiração do token.\n",
    "    \n",
    "    Funcionamento:\n",
    "        - Verifica se o horário atual (`time.time()`) já passou do `token_expiry`.\n",
    "        - Se o token já expirou:\n",
    "            → Imprime uma mensagem de log (\"Token expirou. Renovando...\").\n",
    "            → Chama a função `get_spotify_access_token()` para obter um novo token e atualizar o `token_expiry`.\n",
    "        - Se o token ainda for válido:\n",
    "            → Apenas retorna o token atual e seu tempo de expiração.\n",
    "    \"\"\"\n",
    "    if time.time() >= token_expiry:\n",
    "        print(\"Token expirou. Renovando...\")\n",
    "        token, token_expiry = get_spotify_access_token(client_id, client_secret)\n",
    "    return token, token_expiry\n"
   ]
  },
  {
   "cell_type": "markdown",
   "metadata": {
    "application/vnd.databricks.v1+cell": {
     "cellMetadata": {},
     "inputWidgets": {},
     "nuid": "23de7c5d-7b16-4753-9818-6ebdee00cfb9",
     "showTitle": false,
     "tableResultSettingsMap": {},
     "title": ""
    }
   },
   "source": [
    "## Buscando tracks(musicas) utilizando API do Spotify"
   ]
  },
  {
   "cell_type": "code",
   "execution_count": 0,
   "metadata": {
    "application/vnd.databricks.v1+cell": {
     "cellMetadata": {
      "byteLimit": 2048000,
      "rowLimit": 10000
     },
     "inputWidgets": {},
     "nuid": "e1d44a58-3b4f-4fe4-b928-34970a42b080",
     "showTitle": false,
     "tableResultSettingsMap": {},
     "title": ""
    }
   },
   "outputs": [],
   "source": [
    "# Função para buscar música (tratando rate limit e token expirado)\n",
    "def get_spotify_track_info(track_name, client_id, client_secret, token, token_expiry):\n",
    "    \"\"\"\n",
    "    Busca informações de uma música específica na API do Spotify,\n",
    "    garantindo o uso de um token válido e tratando limites de taxa (rate limit).\n",
    "\n",
    "    Args:\n",
    "        track_name (str): Nome da música a ser pesquisada.\n",
    "        client_id (str): Client ID da aplicação Spotify.\n",
    "        client_secret (str): Client Secret da aplicação Spotify.\n",
    "        token (str): Token de acesso atual (pode estar expirado ou inválido).\n",
    "        token_expiry (float): Timestamp indicando quando o token expira.\n",
    "\n",
    "    Returns:\n",
    "        tuple:\n",
    "            - list: Lista de resultados (máximo 1 item) retornada pela API do Spotify.\n",
    "            - str: Token de acesso válido (renovado se necessário).\n",
    "            - float: Novo timestamp de expiração do token.\n",
    "\n",
    "    Funcionamento:\n",
    "        1. Garante que o token está válido chamando `get_valid_token()`.\n",
    "        2. Faz a chamada para o endpoint `/v1/search` do Spotify:\n",
    "            - Query: `track:{track_name}`\n",
    "            - Tipo: `track`\n",
    "            - Limit: 1 (apenas o resultado mais relevante).\n",
    "        3. Analisa a resposta:\n",
    "            - **200 (OK):** Retorna a lista de tracks (máximo 1).\n",
    "            - **429 (Rate Limit):**\n",
    "                → API limitou requisições.  \n",
    "                → Lê o header `Retry-After` para saber quantos segundos esperar.  \n",
    "                → Faz `time.sleep()` e tenta de novo.\n",
    "            - **401 (Unauthorized):**\n",
    "                → Token inválido ou expirado.  \n",
    "                → Pede um novo token com `get_spotify_access_token()` e repete a busca.\n",
    "            - **Outros códigos de erro:**\n",
    "                → Imprime mensagem de erro (`Erro {status_code}`) e retorna lista vazia.\n",
    "    \"\"\"\n",
    "    while True:\n",
    "        token, token_expiry = get_valid_token(client_id, client_secret, token, token_expiry)\n",
    "        url = \"https://api.spotify.com/v1/search\"\n",
    "        headers = {\"Authorization\": f\"Bearer {token}\"}\n",
    "        params = {\"q\": f\"track:{track_name}\", \"type\": \"track\", \"limit\": 1}\n",
    "\n",
    "        response = requests.get(url, headers=headers, params=params)\n",
    "\n",
    "        if response.status_code == 200:\n",
    "            return response.json().get(\"tracks\", {}).get(\"items\", []), token, token_expiry\n",
    "\n",
    "        elif response.status_code == 429:  # Rate limited\n",
    "            retry_after = int(response.headers.get(\"Retry-After\", \"5\"))\n",
    "            print(f\"Rate limited. Aguardando {retry_after} segundos...\")\n",
    "            time.sleep(retry_after)\n",
    "\n",
    "        elif response.status_code == 401:  # Token inválido ou expirado\n",
    "            print(\"Token inválido/expirado. Renovando...\")\n",
    "            token, token_expiry = get_spotify_access_token(client_id, client_secret)\n",
    "\n",
    "        else:\n",
    "            print(f\"Erro {response.status_code} para '{track_name}'\")\n",
    "            return [], token, token_expiry"
   ]
  },
  {
   "cell_type": "markdown",
   "metadata": {
    "application/vnd.databricks.v1+cell": {
     "cellMetadata": {},
     "inputWidgets": {},
     "nuid": "4cd56098-f897-4020-94d2-f95e6013b960",
     "showTitle": false,
     "tableResultSettingsMap": {},
     "title": ""
    }
   },
   "source": [
    "## Autenticando e capturando o token para usar a API"
   ]
  },
  {
   "cell_type": "code",
   "execution_count": 0,
   "metadata": {
    "application/vnd.databricks.v1+cell": {
     "cellMetadata": {
      "byteLimit": 2048000,
      "rowLimit": 10000
     },
     "inputWidgets": {},
     "nuid": "8ddb565f-5b22-4a92-83a8-334047773aa7",
     "showTitle": false,
     "tableResultSettingsMap": {},
     "title": ""
    }
   },
   "outputs": [],
   "source": [
    "# Autenticação inicial\n",
    "client_id = \"7c4843d7e1a240b49affd223715ebb36\"\n",
    "client_secret = \"67dc831362194185be3450976b344a07\"\n",
    "token, token_expiry = get_spotify_access_token(client_id, client_secret)\n",
    "\"\"\"\n",
    "Explicação:\n",
    "    - `client_id` e `client_secret`:\n",
    "        → São as credenciais únicas da aplicação no Spotify for Developers.\n",
    "        → Usadas para autenticação no fluxo Client Credentials.\n",
    "\n",
    "    - `get_spotify_access_token(client_id, client_secret)`:\n",
    "        → Faz uma chamada POST para o endpoint de autenticação do Spotify.\n",
    "        → Retorna:\n",
    "            1. `token` (str): O token de acesso (Bearer Token) necessário \n",
    "               para autenticar todas as chamadas à API.\n",
    "            2. `token_expiry` (float): Um timestamp indicando quando esse token expira.\n",
    "\n",
    "    - Esse passo inicial garante que já temos um token válido antes de\n",
    "      começar a fazer buscas de músicas (via `get_spotify_track_info`).\n",
    "\"\"\""
   ]
  },
  {
   "cell_type": "markdown",
   "metadata": {
    "application/vnd.databricks.v1+cell": {
     "cellMetadata": {},
     "inputWidgets": {},
     "nuid": "fde4e66e-fea0-4fd8-90f7-b0b0cdbc6b0b",
     "showTitle": false,
     "tableResultSettingsMap": {},
     "title": ""
    }
   },
   "source": [
    "## Extraindo os dados da camanda Silver(Com Spark)"
   ]
  },
  {
   "cell_type": "code",
   "execution_count": 0,
   "metadata": {
    "application/vnd.databricks.v1+cell": {
     "cellMetadata": {
      "byteLimit": 2048000,
      "rowLimit": 10000
     },
     "inputWidgets": {},
     "nuid": "f81b527d-eb0a-4876-8dfa-a41213e4b2ad",
     "showTitle": false,
     "tableResultSettingsMap": {},
     "title": ""
    }
   },
   "outputs": [],
   "source": [
    "# Carrega lista do Spark (Silver)\n",
    "# Consulta SQL no Spark para buscar músicas distintas\n",
    "rows = spark.sql(\"SELECT DISTINCT Track FROM workspace.silver.classic_hit\").collect()\n",
    "\n",
    "# Cria uma lista apenas com os nomes das faixas (coluna 'Track')\n",
    "tracks_list = [row[\"Track\"] for row in rows]\n",
    "\n",
    "# Exibe a quantidade total de músicas coletadas\n",
    "print(f\"Total de músicas: {len(tracks_list)}\")\n",
    "\n",
    "\"\"\"\n",
    "Explicação:\n",
    "    - `spark.sql(\"SELECT DISTINCT Track FROM workspace.silver.classic_hit\")`:\n",
    "        → Executa uma consulta no Spark SQL.\n",
    "        → Busca todas as combinações únicas de `Track` na tabela\n",
    "          `workspace.silver.classic_hit` (camada Silver).\n",
    "        → O `DISTINCT` garante que não haja duplicados.\n",
    "\n",
    "    - `.collect()`:\n",
    "        → Retorna os resultados da consulta como uma lista de objetos Row do Spark.\n",
    "        → Cada `Row` funciona como um dicionário, onde `row[\"Track\"]` acessa a coluna.\n",
    "\n",
    "    - `tracks_list = [row[\"Track\"] for row in rows]`:\n",
    "        → Cria uma lista somente com os títulos das músicas (sem os artistas).\n",
    "        → Essa lista é usada depois para buscar informações no Spotify.\n",
    "\n",
    "    - `print(f\"Total de músicas: {len(tracks_list)}\")`:\n",
    "        → Exibe no console quantas músicas distintas foram carregadas do dataset.\n",
    "\"\"\"\n"
   ]
  },
  {
   "cell_type": "markdown",
   "metadata": {
    "application/vnd.databricks.v1+cell": {
     "cellMetadata": {},
     "inputWidgets": {},
     "nuid": "105632b8-27bf-405f-abfb-bdf90f1bda39",
     "showTitle": false,
     "tableResultSettingsMap": {},
     "title": ""
    }
   },
   "source": [
    "## Realizando a Busca das musicas no Spotify de forma paralela"
   ]
  },
  {
   "cell_type": "code",
   "execution_count": 0,
   "metadata": {
    "application/vnd.databricks.v1+cell": {
     "cellMetadata": {
      "byteLimit": 2048000,
      "rowLimit": 10000
     },
     "inputWidgets": {},
     "nuid": "c6bafe00-6b45-4ea7-8cfc-5b1f79c1651d",
     "showTitle": false,
     "tableResultSettingsMap": {},
     "title": ""
    }
   },
   "outputs": [],
   "source": [
    "# Processa em batches menores\n",
    "batch_size = 500\n",
    "all_results = []\n",
    "\n",
    "# Processa a lista de músicas em lotes (batches)\n",
    "for i in range(0, len(tracks_list), batch_size):\n",
    "    batch = tracks_list[i:i + batch_size]\n",
    "    print(f\"Processando batch {i // batch_size + 1} ({len(batch)} músicas)...\")\n",
    "\n",
    "    batch_results = []\n",
    "    for track in batch:\n",
    "\n",
    "        # Consulta informações da track na API do Spotify\n",
    "        results, token, token_expiry = get_spotify_track_info(track, client_id, client_secret, token, token_expiry)\n",
    "        batch_results.extend(results)\n",
    "\n",
    "    # Se houve resultados, salva incrementalmente no Delta Table\n",
    "    # Converte para Spark DataFrame e salva incrementalmente\n",
    "    if batch_results:\n",
    "        df = pd.DataFrame([{\"json\": json.dumps(item)} for item in batch_results])\n",
    "        spark_df = spark.createDataFrame(df)\n",
    "\n",
    "        # Persistindo no Delta Lake (camada Bronze)\n",
    "        spark_df.write.format(\"delta\") \\\n",
    "            .mode(\"append\") \\\n",
    "            .saveAsTable(\"workspace.bronze.search_track_artist\")\n",
    "\n",
    "    # Armazena todos os resultados também em memória\n",
    "    all_results.extend(batch_results)\n",
    "\n",
    "print(\"Finalizado. Total salvo:\", len(all_results))\n",
    "\"\"\"\n",
    "Explicação:\n",
    "    - `batch_size = 500`:\n",
    "        → Define o número de músicas a serem processadas por lote.\n",
    "        → Ajuda a evitar estouro de memória e problemas com rate limit da API.\n",
    "\n",
    "    - Loop `for i in range(0, len(tracks_list), batch_size)`:\n",
    "        → Percorre toda a lista de músicas (`tracks_list`) em blocos de 500 elementos.\n",
    "        → `batch` contém apenas um pedaço da lista por vez.\n",
    "\n",
    "    - `get_spotify_track_info(...)`:\n",
    "        → Faz a chamada à API do Spotify para cada música no lote.\n",
    "        → Retorna os metadados da faixa (JSON), além do `token` atualizado.\n",
    "\n",
    "    - `batch_results.extend(results)`:\n",
    "        → Junta todos os resultados do lote em uma lista temporária.\n",
    "\n",
    "    - Criação do DataFrame:\n",
    "        → `pd.DataFrame(...)` transforma a lista de JSONs em um DataFrame do Pandas.\n",
    "        → `spark.createDataFrame(df)` converte para DataFrame do Spark.\n",
    "\n",
    "    - Escrita no Delta Lake:\n",
    "        → `.mode(\"append\")`: adiciona os dados sem sobrescrever os anteriores.\n",
    "        → Armazena os dados brutos (JSONs) na **camada Bronze** da arquitetura de dados.\n",
    "\n",
    "    - `all_results.extend(batch_results)`:\n",
    "        → Também guarda em memória todos os resultados acumulados, \n",
    "          caso seja necessário processar ou auditar depois.\n",
    "\n",
    "    - `print(\"Finalizado. Total salvo:\", len(all_results))`:\n",
    "        → Exibe no console a quantidade final de músicas realmente gravadas no Delta.\n",
    "\"\"\""
   ]
  }
 ],
 "metadata": {
  "application/vnd.databricks.v1+notebook": {
   "computePreferences": {
    "hardware": {
     "accelerator": null,
     "gpuPoolId": null,
     "memory": null
    }
   },
   "dashboards": [],
   "environmentMetadata": {
    "base_environment": "",
    "environment_version": "3"
   },
   "inputWidgetPreferences": null,
   "language": "python",
   "notebookMetadata": {
    "mostRecentlyExecutedCommandWithImplicitDF": {
     "commandId": 6850476150513187,
     "dataframes": [
      "_sqldf"
     ]
    },
    "pythonIndentUnit": 4
   },
   "notebookName": "Carga Bronze - API Spotify",
   "widgets": {}
  },
  "language_info": {
   "name": "python"
  }
 },
 "nbformat": 4,
 "nbformat_minor": 0
}
